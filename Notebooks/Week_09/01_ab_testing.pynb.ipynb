{
 "cells": [
  {
   "cell_type": "markdown",
   "metadata": {},
   "source": [
    "# A/B testing example"
   ]
  },
  {
   "cell_type": "markdown",
   "metadata": {},
   "source": [
    "We are now going to practice with potentially the most common case you might face in the industry with A/B testing. The company has a website and would like to test what is the option that causes the highest conversion rate (paying/subscribing).\n",
    "\n",
    "**Setup:** \n",
    "The company collected data from almost 300k users during January 2017. The users were shown randomly the new and the old version of the page. The company asks you to check if the new page increases the conversion rate (percentage of users who have completed the desired action, e.g. subscribing).\n",
    "\n",
    "- This exercise session is based on: https://medium.com/towards-data-science/ab-testing-with-python-e5964dd66143\n",
    "- Source dataset: https://www.kaggle.com/zhangluyuan/ab-testing?select=ab_data.csv\n",
    "- Another class based on those data: https://github.com/SadiqAlreemi/Analyze-AB-Test-Results\n",
    "- Other AB testing dataset to play with: https://opendata.stackexchange.com/questions/6788/where-can-i-get-a-sample-dataset-for-a-b-split-testing\n"
   ]
  },
  {
   "cell_type": "markdown",
   "metadata": {},
   "source": [
    "## 1. Variables selection\n",
    "\n",
    "- **Central aspect**: This is A/B testing, and the \"treatment\" is randomly allocated. Therefore the causal effect can be measured by comparing the conversion rate between the control and treatment groups. \n",
    "- **outcome (converted):** dummy variable, taking the value 1 if the user subscribed.\n",
    "- **explanatory variable (group):** categorical variable: control, or treatment.\n",
    "\n",
    "In this setup, we want to test if the conversion rate (a proportion) with the treatment is higher than with the control. Formally we express this hypothesis:\n",
    "\n",
    "$$H_0: p_0 \\geq p_1$$\n",
    "$$H_a: p_0 < p_1$$\n",
    "\n",
    "with $p_0$, and $p_1$ respectively the conversion rate of the control and treatment group. $p_i=$(number of conversion among group $i$ / total number of individuals in group $i$).\n"
   ]
  },
  {
   "cell_type": "markdown",
   "metadata": {},
   "source": [
    "## 2. Sample \n",
    "- *id:* user id\n",
    "- *group:* control or treatment\n",
    "- *converted:* dummy variable, taking the value 1 if the user subscribed, 0 otherwise\n",
    "\n",
    "### 2.1 Sample size calculation\n",
    "As we are going to see, the dataset is massive. Hence, we'll use this opportunity to compute the minimal sample size required and select randomly a sample based on this computation from the entire dataset (sample size calculation).\n",
    "\n",
    "**a. Which statistical test are we going to use?**\n",
    "As seen in the previous section, we are going to test the difference between the two proportions.\n",
    "\n",
    "**b. information to compute the sample size:**\n",
    "- Alternative hypothesis: unilateral\n",
    "- $\\alpha=0.05$ and $beta=0.8$ by convention\n",
    "- *Effect size*: The marketing team estimated that the return on investment (implementing the change) is worth it if the difference is at least 5\\%.\n",
    "- *Standard deviation*: With the proportions difference test, you just need to feed the effect size (the sd is computed based on the proportion given the effect size).\n",
    "\n",
    "**c. computing the sample size:**"
   ]
  },
  {
   "cell_type": "code",
   "execution_count": 5,
   "metadata": {},
   "outputs": [],
   "source": [
    "# Packages imports\n",
    "import math\n",
    "import numpy as np\n",
    "import pandas as pd\n",
    "import scipy.stats as stats\n",
    "import statsmodels.stats.api as sms\n",
    "import matplotlib as mpl\n",
    "import matplotlib.pyplot as plt\n",
    "import seaborn as sns\n",
    "from math import ceil\n",
    "import datetime\n",
    "import os"
   ]
  },
  {
   "cell_type": "code",
   "execution_count": 6,
   "metadata": {},
   "outputs": [
    {
     "data": {
      "text/plain": [
       "'/Users/rita/Documents/GitHub/class_datascience/Notebooks/Week_09'"
      ]
     },
     "execution_count": 6,
     "metadata": {},
     "output_type": "execute_result"
    }
   ],
   "source": [
    "os.getcwd()"
   ]
  },
  {
   "cell_type": "code",
   "execution_count": 7,
   "metadata": {},
   "outputs": [
    {
     "data": {
      "text/html": [
       "<div>\n",
       "<style scoped>\n",
       "    .dataframe tbody tr th:only-of-type {\n",
       "        vertical-align: middle;\n",
       "    }\n",
       "\n",
       "    .dataframe tbody tr th {\n",
       "        vertical-align: top;\n",
       "    }\n",
       "\n",
       "    .dataframe thead th {\n",
       "        text-align: right;\n",
       "    }\n",
       "</style>\n",
       "<table border=\"1\" class=\"dataframe\">\n",
       "  <thead>\n",
       "    <tr style=\"text-align: right;\">\n",
       "      <th></th>\n",
       "      <th>user_id</th>\n",
       "      <th>timestamp</th>\n",
       "      <th>group</th>\n",
       "      <th>landing_page</th>\n",
       "      <th>converted</th>\n",
       "    </tr>\n",
       "  </thead>\n",
       "  <tbody>\n",
       "    <tr>\n",
       "      <th>0</th>\n",
       "      <td>851104</td>\n",
       "      <td>2017-01-21 22:11:48.556739</td>\n",
       "      <td>control</td>\n",
       "      <td>old_page</td>\n",
       "      <td>0</td>\n",
       "    </tr>\n",
       "    <tr>\n",
       "      <th>1</th>\n",
       "      <td>804228</td>\n",
       "      <td>2017-01-12 08:01:45.159739</td>\n",
       "      <td>control</td>\n",
       "      <td>old_page</td>\n",
       "      <td>0</td>\n",
       "    </tr>\n",
       "    <tr>\n",
       "      <th>2</th>\n",
       "      <td>661590</td>\n",
       "      <td>2017-01-11 16:55:06.154213</td>\n",
       "      <td>treatment</td>\n",
       "      <td>new_page</td>\n",
       "      <td>0</td>\n",
       "    </tr>\n",
       "    <tr>\n",
       "      <th>3</th>\n",
       "      <td>853541</td>\n",
       "      <td>2017-01-08 18:28:03.143765</td>\n",
       "      <td>treatment</td>\n",
       "      <td>new_page</td>\n",
       "      <td>0</td>\n",
       "    </tr>\n",
       "    <tr>\n",
       "      <th>4</th>\n",
       "      <td>864975</td>\n",
       "      <td>2017-01-21 01:52:26.210827</td>\n",
       "      <td>control</td>\n",
       "      <td>old_page</td>\n",
       "      <td>1</td>\n",
       "    </tr>\n",
       "  </tbody>\n",
       "</table>\n",
       "</div>"
      ],
      "text/plain": [
       "   user_id                   timestamp      group landing_page  converted\n",
       "0   851104  2017-01-21 22:11:48.556739    control     old_page          0\n",
       "1   804228  2017-01-12 08:01:45.159739    control     old_page          0\n",
       "2   661590  2017-01-11 16:55:06.154213  treatment     new_page          0\n",
       "3   853541  2017-01-08 18:28:03.143765  treatment     new_page          0\n",
       "4   864975  2017-01-21 01:52:26.210827    control     old_page          1"
      ]
     },
     "execution_count": 7,
     "metadata": {},
     "output_type": "execute_result"
    }
   ],
   "source": [
    "#import the data\n",
    "df = pd.read_csv('/Users/rita/Documents/GitHub/class_datascience/Notebooks/Week_09/ab_data.csv')\n",
    "\n",
    "df.head()"
   ]
  },
  {
   "cell_type": "code",
   "execution_count": 8,
   "metadata": {},
   "outputs": [
    {
     "name": "stdout",
     "output_type": "stream",
     "text": [
      "2017-01-02 13:42:05.378582\n",
      "2017-01-24 13:41:54.460509\n"
     ]
    }
   ],
   "source": [
    "#How long lasted the experiment?\n",
    "#Convert to datetime format\n",
    "df['timestamp'] = pd.to_datetime(df['timestamp'])\n",
    "#Check the span\n",
    "print(df['timestamp'].min())\n",
    "print(df['timestamp'].max())"
   ]
  },
  {
   "cell_type": "code",
   "execution_count": 9,
   "metadata": {},
   "outputs": [
    {
     "data": {
      "text/plain": [
       "0.12047759085568362"
      ]
     },
     "execution_count": 9,
     "metadata": {},
     "output_type": "execute_result"
    }
   ],
   "source": [
    "#What is the proportion of converted with the current model (control)?\n",
    "#We will use this as an estimate for the null effect.\n",
    "df.loc[df['landing_page']=='old_page', 'converted'].mean()"
   ]
  },
  {
   "cell_type": "markdown",
   "metadata": {},
   "source": [
    "We want to increase this 12% by +5%, thus +17% (marketing department assumption)."
   ]
  },
  {
   "cell_type": "code",
   "execution_count": 10,
   "metadata": {},
   "outputs": [
    {
     "name": "stdout",
     "output_type": "stream",
     "text": [
      "The effect size is:\n",
      "0.14249435414546396\n",
      "Each group size should have a size of:\n",
      "774\n"
     ]
    }
   ],
   "source": [
    "#Calculating effect size based on our expected rates\n",
    "#The baseline conversion rate is 0.12. Hence the minimal effect size 0.12+0.05=0.17\n",
    "effect_size = sms.proportion_effectsize(0.17, 0.12)\n",
    "#The effect size here is derived from Cohen's work: 2 * (arcsin(sqrt(prop1)) - arcsin(sqrt(prop2)))\n",
    "\n",
    "print(\"The effect size is:\")\n",
    "print(effect_size)\n",
    "\n",
    "sample_size = sms.NormalIndPower().solve_power(\n",
    "    effect_size, \n",
    "    power = 0.8, \n",
    "    alpha = 0.05, \n",
    "    ratio = 1\n",
    "    )                                                  \n",
    "\n",
    "#Always round up to ensure that you have at least the expected power /!\\\n",
    "sample_size = ceil(sample_size)                                                 \n",
    "print(\"Each group size should have a size of:\")\n",
    "print(sample_size)\n",
    "\n",
    "#Or use Gpower: ztest>Proportions>A priori\n",
    "#Fairly different estimates: 613 with Gpower (depends on the approximation method)"
   ]
  },
  {
   "cell_type": "markdown",
   "metadata": {},
   "source": [
    "### 2.2 Selecting the sample"
   ]
  },
  {
   "cell_type": "markdown",
   "metadata": {},
   "source": [
    "With an actual experiment, you would setup your experiment and start collecing your data at this point. In our case, we will simply randomly select a sample from the full dataset. (Of course, this is just for the sake of the exercise. In real life, we would use all the data avaialable in order to increase the power.)\n",
    "\n",
    "But first, let's clean the data."
   ]
  },
  {
   "cell_type": "code",
   "execution_count": 11,
   "metadata": {},
   "outputs": [
    {
     "name": "stdout",
     "output_type": "stream",
     "text": [
      "<class 'pandas.core.frame.DataFrame'>\n",
      "RangeIndex: 294478 entries, 0 to 294477\n",
      "Data columns (total 5 columns):\n",
      " #   Column        Non-Null Count   Dtype         \n",
      "---  ------        --------------   -----         \n",
      " 0   user_id       294478 non-null  int64         \n",
      " 1   timestamp     294478 non-null  datetime64[ns]\n",
      " 2   group         294478 non-null  object        \n",
      " 3   landing_page  294478 non-null  object        \n",
      " 4   converted     294478 non-null  int64         \n",
      "dtypes: datetime64[ns](1), int64(2), object(2)\n",
      "memory usage: 11.2+ MB\n"
     ]
    }
   ],
   "source": [
    "df.info()"
   ]
  },
  {
   "cell_type": "code",
   "execution_count": 12,
   "metadata": {},
   "outputs": [
    {
     "data": {
      "text/html": [
       "<div>\n",
       "<style scoped>\n",
       "    .dataframe tbody tr th:only-of-type {\n",
       "        vertical-align: middle;\n",
       "    }\n",
       "\n",
       "    .dataframe tbody tr th {\n",
       "        vertical-align: top;\n",
       "    }\n",
       "\n",
       "    .dataframe thead th {\n",
       "        text-align: right;\n",
       "    }\n",
       "</style>\n",
       "<table border=\"1\" class=\"dataframe\">\n",
       "  <thead>\n",
       "    <tr style=\"text-align: right;\">\n",
       "      <th></th>\n",
       "      <th>user_id</th>\n",
       "      <th>timestamp</th>\n",
       "      <th>group</th>\n",
       "      <th>landing_page</th>\n",
       "      <th>converted</th>\n",
       "    </tr>\n",
       "  </thead>\n",
       "  <tbody>\n",
       "    <tr>\n",
       "      <th>0</th>\n",
       "      <td>851104</td>\n",
       "      <td>2017-01-21 22:11:48.556739</td>\n",
       "      <td>control</td>\n",
       "      <td>old_page</td>\n",
       "      <td>0</td>\n",
       "    </tr>\n",
       "    <tr>\n",
       "      <th>1</th>\n",
       "      <td>804228</td>\n",
       "      <td>2017-01-12 08:01:45.159739</td>\n",
       "      <td>control</td>\n",
       "      <td>old_page</td>\n",
       "      <td>0</td>\n",
       "    </tr>\n",
       "    <tr>\n",
       "      <th>2</th>\n",
       "      <td>661590</td>\n",
       "      <td>2017-01-11 16:55:06.154213</td>\n",
       "      <td>treatment</td>\n",
       "      <td>new_page</td>\n",
       "      <td>0</td>\n",
       "    </tr>\n",
       "    <tr>\n",
       "      <th>3</th>\n",
       "      <td>853541</td>\n",
       "      <td>2017-01-08 18:28:03.143765</td>\n",
       "      <td>treatment</td>\n",
       "      <td>new_page</td>\n",
       "      <td>0</td>\n",
       "    </tr>\n",
       "    <tr>\n",
       "      <th>4</th>\n",
       "      <td>864975</td>\n",
       "      <td>2017-01-21 01:52:26.210827</td>\n",
       "      <td>control</td>\n",
       "      <td>old_page</td>\n",
       "      <td>1</td>\n",
       "    </tr>\n",
       "  </tbody>\n",
       "</table>\n",
       "</div>"
      ],
      "text/plain": [
       "   user_id                  timestamp      group landing_page  converted\n",
       "0   851104 2017-01-21 22:11:48.556739    control     old_page          0\n",
       "1   804228 2017-01-12 08:01:45.159739    control     old_page          0\n",
       "2   661590 2017-01-11 16:55:06.154213  treatment     new_page          0\n",
       "3   853541 2017-01-08 18:28:03.143765  treatment     new_page          0\n",
       "4   864975 2017-01-21 01:52:26.210827    control     old_page          1"
      ]
     },
     "execution_count": 12,
     "metadata": {},
     "output_type": "execute_result"
    }
   ],
   "source": [
    "df.head()"
   ]
  },
  {
   "cell_type": "markdown",
   "metadata": {},
   "source": [
    "In the dataset, there are surprisingly two columns that should be identical: landing_page and group.\n",
    "The control group should see the old page and the treatment group the new_page.\n",
    "Let's control that it's the case."
   ]
  },
  {
   "cell_type": "code",
   "execution_count": 13,
   "metadata": {},
   "outputs": [
    {
     "data": {
      "text/html": [
       "<div>\n",
       "<style scoped>\n",
       "    .dataframe tbody tr th:only-of-type {\n",
       "        vertical-align: middle;\n",
       "    }\n",
       "\n",
       "    .dataframe tbody tr th {\n",
       "        vertical-align: top;\n",
       "    }\n",
       "\n",
       "    .dataframe thead th {\n",
       "        text-align: right;\n",
       "    }\n",
       "</style>\n",
       "<table border=\"1\" class=\"dataframe\">\n",
       "  <thead>\n",
       "    <tr style=\"text-align: right;\">\n",
       "      <th>landing_page</th>\n",
       "      <th>new_page</th>\n",
       "      <th>old_page</th>\n",
       "    </tr>\n",
       "    <tr>\n",
       "      <th>group</th>\n",
       "      <th></th>\n",
       "      <th></th>\n",
       "    </tr>\n",
       "  </thead>\n",
       "  <tbody>\n",
       "    <tr>\n",
       "      <th>control</th>\n",
       "      <td>1928</td>\n",
       "      <td>145274</td>\n",
       "    </tr>\n",
       "    <tr>\n",
       "      <th>treatment</th>\n",
       "      <td>145311</td>\n",
       "      <td>1965</td>\n",
       "    </tr>\n",
       "  </tbody>\n",
       "</table>\n",
       "</div>"
      ],
      "text/plain": [
       "landing_page  new_page  old_page\n",
       "group                           \n",
       "control           1928    145274\n",
       "treatment       145311      1965"
      ]
     },
     "execution_count": 13,
     "metadata": {},
     "output_type": "execute_result"
    }
   ],
   "source": [
    "pd.crosstab(df['group'], df['landing_page'])"
   ]
  },
  {
   "cell_type": "markdown",
   "metadata": {},
   "source": [
    "Damned! Why do we have people in the control group who saw the new_page and the opposite as well?! In real life, I would discuss with the technical team what happened. Without more information and given the fact that the proportion of \"errors\" remains low, we will exclude those from the dataset. \n",
    "\n",
    "**/!\\ IMPORTANT:** Exclusion of observations should always be documented!\n",
    "\n",
    "A row in the dataset represents a user session. In order to prepare the sample we will:\n",
    "1. Remove the errors spotted above (control seeing the new_page and the opposite)\n",
    "2. Check if we have users with multiple sessions (remove them)\n",
    "3. Look for missing variables\n",
    "4. Randomly select the sample"
   ]
  },
  {
   "cell_type": "code",
   "execution_count": 14,
   "metadata": {},
   "outputs": [
    {
     "data": {
      "text/html": [
       "<div>\n",
       "<style scoped>\n",
       "    .dataframe tbody tr th:only-of-type {\n",
       "        vertical-align: middle;\n",
       "    }\n",
       "\n",
       "    .dataframe tbody tr th {\n",
       "        vertical-align: top;\n",
       "    }\n",
       "\n",
       "    .dataframe thead th {\n",
       "        text-align: right;\n",
       "    }\n",
       "</style>\n",
       "<table border=\"1\" class=\"dataframe\">\n",
       "  <thead>\n",
       "    <tr style=\"text-align: right;\">\n",
       "      <th>landing_page</th>\n",
       "      <th>new_page</th>\n",
       "      <th>old_page</th>\n",
       "    </tr>\n",
       "    <tr>\n",
       "      <th>group</th>\n",
       "      <th></th>\n",
       "      <th></th>\n",
       "    </tr>\n",
       "  </thead>\n",
       "  <tbody>\n",
       "    <tr>\n",
       "      <th>control</th>\n",
       "      <td>0</td>\n",
       "      <td>145274</td>\n",
       "    </tr>\n",
       "    <tr>\n",
       "      <th>treatment</th>\n",
       "      <td>145311</td>\n",
       "      <td>0</td>\n",
       "    </tr>\n",
       "  </tbody>\n",
       "</table>\n",
       "</div>"
      ],
      "text/plain": [
       "landing_page  new_page  old_page\n",
       "group                           \n",
       "control              0    145274\n",
       "treatment       145311         0"
      ]
     },
     "execution_count": 14,
     "metadata": {},
     "output_type": "execute_result"
    }
   ],
   "source": [
    "#step 1\n",
    "#Keep only if control is old page and treatment is new page\n",
    "df_s=df.loc[((df['group']=='control') & (df['landing_page']=='old_page')) | \n",
    "            ((df['group']=='treatment') & (df['landing_page']=='new_page'))]\n",
    "#check with a cross tab\n",
    "pd.crosstab(df_s['group'], df_s['landing_page'])"
   ]
  },
  {
   "cell_type": "code",
   "execution_count": 15,
   "metadata": {},
   "outputs": [
    {
     "name": "stdout",
     "output_type": "stream",
     "text": [
      "There are 3894 users that appear multiple times in the dataset.\n"
     ]
    }
   ],
   "source": [
    "#step 2\n",
    "session_counts = df['user_id'].value_counts()\n",
    "multi_users = session_counts[session_counts > 1].count()\n",
    "\n",
    "print(f'There are {multi_users} users that appear multiple times in the dataset.')\n",
    "\n",
    "# Again, for simplicity we will drop those observations but in real-life it would be important to assess how to deal with those.\n",
    "# Can we compare them to the others? Should we keep only the first instance or not?\n",
    "# If we keep all of them, the independence assumption between observations would be violated."
   ]
  },
  {
   "cell_type": "code",
   "execution_count": 16,
   "metadata": {},
   "outputs": [
    {
     "name": "stdout",
     "output_type": "stream",
     "text": [
      "The updated dataset now has 294478 entries\n"
     ]
    }
   ],
   "source": [
    "# Drop the users with multiple sessions\n",
    "users_to_drop = session_counts[session_counts > 1].index\n",
    "\n",
    "df_s = df_s[~df_s['user_id'].isin(users_to_drop)]\n",
    "#note that \"Python’s Tilde ~n operator is the bitwise negation operator\". Hence ~0 is 1 and ~1 is 0.\n",
    "\n",
    "print(f'The updated dataset now has {df.shape[0]} entries')"
   ]
  },
  {
   "cell_type": "code",
   "execution_count": 17,
   "metadata": {},
   "outputs": [
    {
     "data": {
      "text/plain": [
       "user_id         0\n",
       "timestamp       0\n",
       "group           0\n",
       "landing_page    0\n",
       "converted       0\n",
       "dtype: int64"
      ]
     },
     "execution_count": 17,
     "metadata": {},
     "output_type": "execute_result"
    }
   ],
   "source": [
    "#step 3: missing values?\n",
    "df_s.isnull().sum()"
   ]
  },
  {
   "cell_type": "code",
   "execution_count": 18,
   "metadata": {
    "scrolled": false
   },
   "outputs": [
    {
     "data": {
      "text/html": [
       "<div>\n",
       "<style scoped>\n",
       "    .dataframe tbody tr th:only-of-type {\n",
       "        vertical-align: middle;\n",
       "    }\n",
       "\n",
       "    .dataframe tbody tr th {\n",
       "        vertical-align: top;\n",
       "    }\n",
       "\n",
       "    .dataframe thead th {\n",
       "        text-align: right;\n",
       "    }\n",
       "</style>\n",
       "<table border=\"1\" class=\"dataframe\">\n",
       "  <thead>\n",
       "    <tr style=\"text-align: right;\">\n",
       "      <th></th>\n",
       "      <th>user_id</th>\n",
       "      <th>timestamp</th>\n",
       "      <th>group</th>\n",
       "      <th>landing_page</th>\n",
       "      <th>converted</th>\n",
       "    </tr>\n",
       "  </thead>\n",
       "  <tbody>\n",
       "    <tr>\n",
       "      <th>0</th>\n",
       "      <td>772642</td>\n",
       "      <td>2017-01-20 14:15:39.989256</td>\n",
       "      <td>control</td>\n",
       "      <td>old_page</td>\n",
       "      <td>0</td>\n",
       "    </tr>\n",
       "    <tr>\n",
       "      <th>1</th>\n",
       "      <td>805427</td>\n",
       "      <td>2017-01-13 15:11:51.408191</td>\n",
       "      <td>control</td>\n",
       "      <td>old_page</td>\n",
       "      <td>0</td>\n",
       "    </tr>\n",
       "    <tr>\n",
       "      <th>2</th>\n",
       "      <td>640001</td>\n",
       "      <td>2017-01-05 12:32:18.803756</td>\n",
       "      <td>control</td>\n",
       "      <td>old_page</td>\n",
       "      <td>0</td>\n",
       "    </tr>\n",
       "    <tr>\n",
       "      <th>3</th>\n",
       "      <td>844691</td>\n",
       "      <td>2017-01-12 08:42:57.808665</td>\n",
       "      <td>control</td>\n",
       "      <td>old_page</td>\n",
       "      <td>0</td>\n",
       "    </tr>\n",
       "    <tr>\n",
       "      <th>4</th>\n",
       "      <td>819762</td>\n",
       "      <td>2017-01-11 14:06:23.083144</td>\n",
       "      <td>control</td>\n",
       "      <td>old_page</td>\n",
       "      <td>0</td>\n",
       "    </tr>\n",
       "    <tr>\n",
       "      <th>...</th>\n",
       "      <td>...</td>\n",
       "      <td>...</td>\n",
       "      <td>...</td>\n",
       "      <td>...</td>\n",
       "      <td>...</td>\n",
       "    </tr>\n",
       "    <tr>\n",
       "      <th>1543</th>\n",
       "      <td>631596</td>\n",
       "      <td>2017-01-14 04:05:36.784664</td>\n",
       "      <td>treatment</td>\n",
       "      <td>new_page</td>\n",
       "      <td>1</td>\n",
       "    </tr>\n",
       "    <tr>\n",
       "      <th>1544</th>\n",
       "      <td>803286</td>\n",
       "      <td>2017-01-02 16:00:47.578668</td>\n",
       "      <td>treatment</td>\n",
       "      <td>new_page</td>\n",
       "      <td>1</td>\n",
       "    </tr>\n",
       "    <tr>\n",
       "      <th>1545</th>\n",
       "      <td>828434</td>\n",
       "      <td>2017-01-13 10:55:09.881938</td>\n",
       "      <td>treatment</td>\n",
       "      <td>new_page</td>\n",
       "      <td>0</td>\n",
       "    </tr>\n",
       "    <tr>\n",
       "      <th>1546</th>\n",
       "      <td>759009</td>\n",
       "      <td>2017-01-23 16:32:37.952446</td>\n",
       "      <td>treatment</td>\n",
       "      <td>new_page</td>\n",
       "      <td>1</td>\n",
       "    </tr>\n",
       "    <tr>\n",
       "      <th>1547</th>\n",
       "      <td>794458</td>\n",
       "      <td>2017-01-05 11:09:19.545430</td>\n",
       "      <td>treatment</td>\n",
       "      <td>new_page</td>\n",
       "      <td>0</td>\n",
       "    </tr>\n",
       "  </tbody>\n",
       "</table>\n",
       "<p>1548 rows × 5 columns</p>\n",
       "</div>"
      ],
      "text/plain": [
       "      user_id                  timestamp      group landing_page  converted\n",
       "0      772642 2017-01-20 14:15:39.989256    control     old_page          0\n",
       "1      805427 2017-01-13 15:11:51.408191    control     old_page          0\n",
       "2      640001 2017-01-05 12:32:18.803756    control     old_page          0\n",
       "3      844691 2017-01-12 08:42:57.808665    control     old_page          0\n",
       "4      819762 2017-01-11 14:06:23.083144    control     old_page          0\n",
       "...       ...                        ...        ...          ...        ...\n",
       "1543   631596 2017-01-14 04:05:36.784664  treatment     new_page          1\n",
       "1544   803286 2017-01-02 16:00:47.578668  treatment     new_page          1\n",
       "1545   828434 2017-01-13 10:55:09.881938  treatment     new_page          0\n",
       "1546   759009 2017-01-23 16:32:37.952446  treatment     new_page          1\n",
       "1547   794458 2017-01-05 11:09:19.545430  treatment     new_page          0\n",
       "\n",
       "[1548 rows x 5 columns]"
      ]
     },
     "execution_count": 18,
     "metadata": {},
     "output_type": "execute_result"
    }
   ],
   "source": [
    "#step 4: select a random sample\n",
    "#random_state=1234 set a seed for the random number generation and allows to replicate the results\n",
    "control_sample = df_s[df_s['group'] == 'control'].sample(n=sample_size, random_state=1234)\n",
    "treatment_sample = df_s[df_s['group'] == 'treatment'].sample(n=sample_size, random_state=1234)\n",
    "\n",
    "ab_sample = pd.concat([control_sample, treatment_sample])\n",
    "ab_sample.reset_index(drop=True, inplace=True)\n",
    "#\"inplace\" modify directly ab_sample, \"drop\" will not include a column with the former index in the df.\n",
    "ab_sample"
   ]
  },
  {
   "cell_type": "code",
   "execution_count": 19,
   "metadata": {},
   "outputs": [
    {
     "data": {
      "text/plain": [
       "control      774\n",
       "treatment    774\n",
       "Name: group, dtype: int64"
      ]
     },
     "execution_count": 19,
     "metadata": {},
     "output_type": "execute_result"
    }
   ],
   "source": [
    "ab_sample['group'].value_counts()"
   ]
  },
  {
   "cell_type": "markdown",
   "metadata": {},
   "source": [
    "## 3. Analysis\n",
    "Let us first, use descriptive statistics (numerical, graphical) and then test statistically the difference."
   ]
  },
  {
   "cell_type": "code",
   "execution_count": 20,
   "metadata": {},
   "outputs": [
    {
     "data": {
      "text/html": [
       "<div>\n",
       "<style scoped>\n",
       "    .dataframe tbody tr th:only-of-type {\n",
       "        vertical-align: middle;\n",
       "    }\n",
       "\n",
       "    .dataframe tbody tr th {\n",
       "        vertical-align: top;\n",
       "    }\n",
       "\n",
       "    .dataframe thead tr th {\n",
       "        text-align: left;\n",
       "    }\n",
       "\n",
       "    .dataframe thead tr:last-of-type th {\n",
       "        text-align: right;\n",
       "    }\n",
       "</style>\n",
       "<table border=\"1\" class=\"dataframe\">\n",
       "  <thead>\n",
       "    <tr>\n",
       "      <th></th>\n",
       "      <th colspan=\"8\" halign=\"left\">converted</th>\n",
       "    </tr>\n",
       "    <tr>\n",
       "      <th></th>\n",
       "      <th>count</th>\n",
       "      <th>mean</th>\n",
       "      <th>std</th>\n",
       "      <th>min</th>\n",
       "      <th>25%</th>\n",
       "      <th>50%</th>\n",
       "      <th>75%</th>\n",
       "      <th>max</th>\n",
       "    </tr>\n",
       "    <tr>\n",
       "      <th>group</th>\n",
       "      <th></th>\n",
       "      <th></th>\n",
       "      <th></th>\n",
       "      <th></th>\n",
       "      <th></th>\n",
       "      <th></th>\n",
       "      <th></th>\n",
       "      <th></th>\n",
       "    </tr>\n",
       "  </thead>\n",
       "  <tbody>\n",
       "    <tr>\n",
       "      <th>control</th>\n",
       "      <td>774.0</td>\n",
       "      <td>0.114987</td>\n",
       "      <td>0.319213</td>\n",
       "      <td>0.0</td>\n",
       "      <td>0.0</td>\n",
       "      <td>0.0</td>\n",
       "      <td>0.0</td>\n",
       "      <td>1.0</td>\n",
       "    </tr>\n",
       "    <tr>\n",
       "      <th>treatment</th>\n",
       "      <td>774.0</td>\n",
       "      <td>0.145995</td>\n",
       "      <td>0.353329</td>\n",
       "      <td>0.0</td>\n",
       "      <td>0.0</td>\n",
       "      <td>0.0</td>\n",
       "      <td>0.0</td>\n",
       "      <td>1.0</td>\n",
       "    </tr>\n",
       "  </tbody>\n",
       "</table>\n",
       "</div>"
      ],
      "text/plain": [
       "          converted                                             \n",
       "              count      mean       std  min  25%  50%  75%  max\n",
       "group                                                           \n",
       "control       774.0  0.114987  0.319213  0.0  0.0  0.0  0.0  1.0\n",
       "treatment     774.0  0.145995  0.353329  0.0  0.0  0.0  0.0  1.0"
      ]
     },
     "execution_count": 20,
     "metadata": {},
     "output_type": "execute_result"
    }
   ],
   "source": [
    "ab_sample[['converted', 'group']].groupby('group').describe()"
   ]
  },
  {
   "cell_type": "code",
   "execution_count": 21,
   "metadata": {},
   "outputs": [
    {
     "data": {
      "text/plain": [
       "<seaborn.axisgrid.FacetGrid at 0x7f8730783ca0>"
      ]
     },
     "execution_count": 21,
     "metadata": {},
     "output_type": "execute_result"
    },
    {
     "data": {
      "image/png": "[encoded data removed]",
      "text/plain": [
       "<Figure size 500x500 with 1 Axes>"
      ]
     },
     "metadata": {},
     "output_type": "display_data"
    }
   ],
   "source": [
    "sns.catplot(x='group', y='converted', palette=\"plasma\", kind='bar',  dodge=False, data=ab_sample)"
   ]
  },
  {
   "cell_type": "markdown",
   "metadata": {},
   "source": [
    "The treatment group has a larger conversion rate. The difference is about 2.1 percentage points (less than half of 5%). Now let's test if the difference is statistically significant or not."
   ]
  },
  {
   "cell_type": "markdown",
   "metadata": {},
   "source": [
    "**Proportion test:** The two variables are Binomiale variables. But the Binomiale distribution is well approximated with a normal distribution: if $np ≥ 5$ and $n(1-p) ≥ 5$ (valid here). More information can be found here: https://online.stat.psu.edu/stat415/lesson/9/9.4. We are going to use the `proportions_ztest` from `statsmodels` to do the test. This module requires two pairs of information: \\[number of successes in the control group, number of successes in the treatment group\\] and \\[number of observations in the control group, number of observations in the treatment group\\]."
   ]
  },
  {
   "cell_type": "code",
   "execution_count": 22,
   "metadata": {},
   "outputs": [],
   "source": [
    "from statsmodels.stats.proportion import proportions_ztest, proportion_confint"
   ]
  },
  {
   "cell_type": "code",
   "execution_count": 23,
   "metadata": {},
   "outputs": [],
   "source": [
    "control_results = ab_sample.loc[ab_sample['group'] == 'control','converted']\n",
    "treatment_results = ab_sample.loc[ab_sample['group'] == 'treatment','converted']"
   ]
  },
  {
   "cell_type": "code",
   "execution_count": 24,
   "metadata": {},
   "outputs": [
    {
     "name": "stdout",
     "output_type": "stream",
     "text": [
      "z statistic: -1.81\n",
      "p-value: 0.035\n"
     ]
    }
   ],
   "source": [
    "n_con = control_results.count()\n",
    "n_treat = treatment_results.count()\n",
    "successes = [control_results.sum(), treatment_results.sum()]\n",
    "nobs = [n_con, n_treat]\n",
    "\n",
    "z_stat, pval = proportions_ztest(successes, nobs=nobs, alternative='smaller')\n",
    "\n",
    "\n",
    "print(f'z statistic: {z_stat:.2f}')\n",
    "print(f'p-value: {pval:.3f}')\n",
    "#(lower_con, lower_treat), (upper_con, upper_treat) = proportion_confint(successes, nobs=nobs, alpha=0.05)\n",
    "#print(f'ci 95% for control group: [{lower_con:.3f}, {upper_con:.3f}]')\n",
    "#print(f'ci 95% for treatment group: [{lower_treat:.3f}, {upper_treat:.3f}]')"
   ]
  },
  {
   "cell_type": "markdown",
   "metadata": {},
   "source": [
    "**Conclusion:** The p-value is 0.035 which is smaller than the 5% threshold. Hence, we can reject the hypothesis that the control group has a higher conversion rate. The difference is \"only\" 3.1 percentage points, and hence a bit more than half of the minimal practical difference suggested by the marketing team (5%). What do you think the firm should do?"
   ]
  }
 ],
 "metadata": {
  "kernelspec": {
   "display_name": "Python 3 (ipykernel)",
   "language": "python",
   "name": "python3"
  },
  "language_info": {
   "codemirror_mode": {
    "name": "ipython",
    "version": 3
   },
   "file_extension": ".py",
   "mimetype": "text/x-python",
   "name": "python",
   "nbconvert_exporter": "python",
   "pygments_lexer": "ipython3",
   "version": "3.9.13"
  }
 },
 "nbformat": 4,
 "nbformat_minor": 4
}
