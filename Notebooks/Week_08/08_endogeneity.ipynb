{
 "cells": [
  {
   "cell_type": "code",
   "execution_count": 1,
   "id": "388c0f9f",
   "metadata": {},
   "outputs": [
    {
     "ename": "FileNotFoundError",
     "evalue": "[Errno 2] No such file or directory: '/Users/echiarot/Documents/GitHub/python_learn/Class Data Science'",
     "output_type": "error",
     "traceback": [
      "\u001b[0;31m---------------------------------------------------------------------------\u001b[0m",
      "\u001b[0;31mFileNotFoundError\u001b[0m                         Traceback (most recent call last)",
      "Input \u001b[0;32mIn [1]\u001b[0m, in \u001b[0;36m<cell line: 28>\u001b[0;34m()\u001b[0m\n\u001b[1;32m     26\u001b[0m \u001b[38;5;66;03m# WORKING DIRECTORY\u001b[39;00m\n\u001b[1;32m     27\u001b[0m mywd \u001b[38;5;241m=\u001b[39m \u001b[38;5;124m\"\u001b[39m\u001b[38;5;124m/Users/echiarot/Documents/GitHub/python_learn/Class Data Science\u001b[39m\u001b[38;5;124m\"\u001b[39m\n\u001b[0;32m---> 28\u001b[0m \u001b[43mos\u001b[49m\u001b[38;5;241;43m.\u001b[39;49m\u001b[43mchdir\u001b[49m\u001b[43m(\u001b[49m\u001b[43mmywd\u001b[49m\u001b[43m)\u001b[49m\n",
      "\u001b[0;31mFileNotFoundError\u001b[0m: [Errno 2] No such file or directory: '/Users/echiarot/Documents/GitHub/python_learn/Class Data Science'"
     ]
    }
   ],
   "source": [
    "# PACKAGES\n",
    "%matplotlib inline\n",
    "import numpy as np\n",
    "import scipy.stats as stats\n",
    "import matplotlib.pyplot as plt\n",
    "import seaborn as sns\n",
    "import random as rd\n",
    "import statistics as st\n",
    "import pandas as pd\n",
    "import os\n",
    "import statsmodels.api as sm\n",
    "import re\n",
    "from stargazer.stargazer import Stargazer\n",
    "\n",
    "# FUNCTIONS FROM PACKAGES\n",
    "from numpy.linalg import inv\n",
    "from sklearn.linear_model import LinearRegression\n",
    "\n",
    "# SEABORN THEME\n",
    "scale = 0.4\n",
    "W = 16*scale\n",
    "H = 9*scale\n",
    "sns.set(rc = {'figure.figsize':(W,H)})\n",
    "sns.set_style(\"white\")\n",
    "\n",
    "# WORKING DIRECTORY\n",
    "mywd = \"/Users/echiarot/Documents/GitHub/python_learn/Class Data Science\"\n",
    "os.chdir(mywd)"
   ]
  },
  {
   "cell_type": "markdown",
   "id": "8dfe2a86",
   "metadata": {},
   "source": [
    "### Omitted-Variable Bias\n",
    "- In the previous class we considered the assumptions of the linear regression model for the OLS to be a good estimator, namely:\n",
    "    1. **Linearity**: $\\boldsymbol{y} = \\boldsymbol{X}\\boldsymbol{\\beta} + \\boldsymbol{\\epsilon}$\n",
    "    2. **Full rank**: $\\boldsymbol{X}$ is full rank, i.e. there is no exact linear relationship among any of the independent variables in the model.\n",
    "    3. **Exogeneity of the independent variable**: $ \\mathrm{E}(\\boldsymbol{\\epsilon}|\\boldsymbol{X})=\\boldsymbol{0}$. This implies $\\mathrm{E}(\\boldsymbol{y}|\\boldsymbol{X}) = \\boldsymbol{X}\\boldsymbol{\\beta}$.\n",
    "    4. **Homoscedasticity and nonautocorrelation**: $\\mathrm{V} (\\boldsymbol{\\epsilon}|\\boldsymbol{X})=\\sigma^2\\boldsymbol{I}_N$. If we consider assumption 3, this assumption can be re-written as $\\mathrm{E}(\\boldsymbol{\\epsilon}'\\boldsymbol{\\epsilon}|\\boldsymbol{X}) = \\sigma^2\\boldsymbol{I}_N$.\n",
    "    5. **Data generation**: $\\boldsymbol{X}$ may be fixed or random.\n",
    "    6. **Normal distribution**: $\\boldsymbol{\\epsilon}|\\boldsymbol{X}$ is normally distributed.\n",
    "- In econometrics, instead of saying good we say \"unbiased\", i.e. the mean of the estimator is the parameter of interest. Also, under assumption 4 (that is usually referred to as \"spherical disturbances\"), we say that the OLS estimator is also the most efficient among all estimators, i.e. it has the smaller variance. Formally this implication is called the Gauss-Markov theorem, i.e. under assumptions 1-6 the OLS estimator is the Best Linear Unbiased Estimator (BLUE).\n",
    "- These implied properties of the OLS estimator (unbiased and efficient) are usually referred to as the small-sample properties of the OLS estimator. On that basis, econometrics then uses asymptotic theory to extend such properties to large sample. In a nutshell, when the sample size is large, we need less-stringent assumptions than 1-6 to claim that the OLS is consistent (which is the large-sample version of unbiased). For example, in large samples we only need a weak endogeneity of the independent variables, expressed as $\\mathrm{E}(\\boldsymbol{\\epsilon}\\boldsymbol{X})$ (rather than $\\mathrm{E}(\\boldsymbol{\\epsilon}|\\boldsymbol{X})=\\boldsymbol{0}$)), for the estimator to the consistent.\n",
    "- The exogeneity assumption is by far the most important one. Whenever it fails, i.e. whenever some of the regressors are correlated with the error term, the OLS estimator is biased (or inconsistent). The problem comes from the fact that the OLS estimator assigns to some of the regressors the effect of changes in the error terms which are correlated with these regressors. This can arise for several reasons, namely omitted variables, simultaneity / reverse causality, error-in-variables / measurement error, and sample selection. \n",
    "- Let's discuss the bias arising from omitted variables. A common failure of the assumption on the exogeneity of the independent variable is when a relevant variable is omitted. We can illustrate the bias that it might cause using the simple regression model. Assume that the model of the data generating process (and also of the population), has 2 regressors:\n",
    "<br><br>\n",
    "$$\n",
    "y_i = \\beta_0 + x_{1i}\\beta_1 + x_{2i}\\beta_2 + \\epsilon_i\n",
    "$$\n",
    "<br>\n",
    "- If we estimate only $y_i = \\beta_0 + x_{1i}\\beta_1 + \\epsilon_i$ with OLS, then it can be shown that\n",
    "<br><br>\n",
    "$$\n",
    "\\mathrm{E}(\\hat{\\beta}_{1,OLS}) = \\beta_1 + \\beta_2 \\frac{\\sum_{i=1}^{N}(x_{1i}-\\overline{x})x_{2i}}{(x_{1i}-\\overline{x})^2}\n",
    "$$\n",
    "<br>\n",
    "- Omitting the variable $x_2$ therefore leaves the estimate of the coefficient $\\beta_1$ unbiased if either of the two following conditions are satisfied: \n",
    "    - the partial effect of $x_2$ is zero in the sample, i.e. the estimate of $\\beta_2$ is not statistically different from zero (which means it that the model omitting $x_2$ is actually well specified); \n",
    "    - $x_1$ and $x_2$ are uncorrelated in the sample, i.e. the factor after $\\beta_2$ in the equation is zero (you should have noticed that that factor would be the coefficient estimate of a regression of $x_2$ on $x_1$\n",
    "- As soon as $x_2$ has some effect on the dependent variable and is correlated with $x_1$ to some extent, there will be an omitted variable bias. It is therefore important, when thinking about potential omitted variable, to try to determine whether they are likely to be correlated with the included regressors. Omitting a variable which is uncorrelated with the regressors is not a problem. After all, there will always be some of such variables in the error term.\n",
    "- When $\\mathrm{E}(\\hat{\\beta}_{1,OLS}) > \\beta_1$ we say that there is upward bias (the coefficient is “too high”). When $\\mathrm{E}(\\hat{\\beta}_{1,OLS}) > \\beta_1$ we say that there is a downward bias. Intuition should allow you to determine whether the coefficients are biased upward or downward. For example, let's consider our analysis of the impact of goods' consumption, proxied by GDP per capita, on CO2 emissions per capita. In our analysis, the coefficient estimate of 1.3136 tells us that, on average, if GDP per capita increases by 1%, we'd expect CO2 emissions per capita to increase by 1.3136%. Let's think of a omitted variable that would make this estimate biased. Maybe carbon taxes? If countries with high income per capita also have high carbon tax, then individuals are somehow constrained in the amount of environmentally-damaging goods they can buy. Without any carbon tax, they would buy even more of these goods, and thus emit even more. So, if we do not control for carbon taxes, i.e. if we do not keep them constant, we might be underestimating the real effect of consumption on climate change (downward bias). Let's analyze in order our 2 conditions to see if a tax on carbon could be an omitted variable here:\n",
    "    - Correlation between carbon taxes ($x_2$) and GDP per capita ($x_1)$: it could be that countries with higher GDP per capita (so higher consumption levels) could also have higher carbon taxes, as the institutions in those countries are \"more developed\" and therefore have already implemented high carbon taxes to fight climate change.\n",
    "    - Correlation between carbon taxes ($x_2$) and CO2 emissions per capita ($y$): it could be that higher carbon taxes lead to less emissions because with a carbon tax either people or firms consume less environmentally-intensive goods (like oil etc)."
   ]
  },
  {
   "cell_type": "markdown",
   "id": "a87b8140",
   "metadata": {},
   "source": [
    "### Omitted Variables in Python\n",
    "- OK let's see what happens when we include a proxy for carbon taxes. In QoG, we have `oecd_cctr_gdp`, which is the climate change-related tax revenue as a percentage of gross domestic product (GDP). Includes taxes, fees and charges, tradable permits, deposit-refund systems, subsidies, and voluntary approaches related to the domain of climate change. We would also have a variable for taxes on oil, but it's available only for a very limited number of countries in combination with out other variables. Let's load the data as before and make a cross section by dropping outliers:"
   ]
  },
  {
   "cell_type": "code",
   "execution_count": 2,
   "id": "8b341592",
   "metadata": {},
   "outputs": [],
   "source": [
    "# get data\n",
    "link = \"https://www.qogdata.pol.gu.se/data/qog_ei_sept21.xlsx\"\n",
    "df_qog = pd.read_excel(link)"
   ]
  },
  {
   "cell_type": "code",
   "execution_count": 3,
   "id": "62451750",
   "metadata": {},
   "outputs": [],
   "source": [
    "# get variables\n",
    "indexes = [\"ccodealp\",\"year\"]\n",
    "variabs_co2 = [\"edgar_co2gdp\",\"edgar_co2t\",\"edgar_co2pc\"]\n",
    "variabs_control = [\"oecd_cctr_gdp\"]\n",
    "variabs = variabs_co2 + variabs_control\n",
    "df = df_qog.loc[:,np.append(indexes,variabs)]\n",
    "\n",
    "# make gdp per capita\n",
    "df[\"gdp\"] = (df[\"edgar_co2gdp\"]/df[\"edgar_co2t\"])**(-1) # billions US dollars\n",
    "df[\"pop\"] = (df[\"edgar_co2pc\"]/df[\"edgar_co2t\"])**(-1) # millions\n",
    "df[\"gdp_pc\"] = df[\"gdp\"]/df[\"pop\"] # thousands of US dollars\n",
    "variabs = np.append(variabs, [\"gdp\",\"pop\",\"gdp_pc\"])"
   ]
  },
  {
   "cell_type": "code",
   "execution_count": 4,
   "id": "6f1b416c",
   "metadata": {},
   "outputs": [],
   "source": [
    "# make cross section\n",
    "df = df.groupby(\"ccodealp\")[variabs].mean().reset_index().dropna()\n",
    "\n",
    "# put ones into data\n",
    "df[\"ones\"] = 1\n",
    "\n",
    "# drop outliers quick and dirty\n",
    "df = df.loc[df[\"gdp_pc\"] < 80,:]\n",
    "\n",
    "# maybe logs?\n",
    "df[\"ln_gdp_pc\"] = np.log(df[\"gdp_pc\"])\n",
    "df[\"ln_edgar_co2pc\"] = np.log(df[\"edgar_co2pc\"])"
   ]
  },
  {
   "cell_type": "code",
   "execution_count": 5,
   "id": "c0abc50e",
   "metadata": {},
   "outputs": [
    {
     "data": {
      "text/html": [
       "<div>\n",
       "<style scoped>\n",
       "    .dataframe tbody tr th:only-of-type {\n",
       "        vertical-align: middle;\n",
       "    }\n",
       "\n",
       "    .dataframe tbody tr th {\n",
       "        vertical-align: top;\n",
       "    }\n",
       "\n",
       "    .dataframe thead th {\n",
       "        text-align: right;\n",
       "    }\n",
       "</style>\n",
       "<table border=\"1\" class=\"dataframe\">\n",
       "  <thead>\n",
       "    <tr style=\"text-align: right;\">\n",
       "      <th></th>\n",
       "      <th>edgar_co2gdp</th>\n",
       "      <th>edgar_co2t</th>\n",
       "      <th>edgar_co2pc</th>\n",
       "      <th>oecd_cctr_gdp</th>\n",
       "      <th>gdp</th>\n",
       "      <th>pop</th>\n",
       "      <th>gdp_pc</th>\n",
       "      <th>ones</th>\n",
       "      <th>ln_gdp_pc</th>\n",
       "      <th>ln_edgar_co2pc</th>\n",
       "    </tr>\n",
       "  </thead>\n",
       "  <tbody>\n",
       "    <tr>\n",
       "      <th>count</th>\n",
       "      <td>94.000000</td>\n",
       "      <td>94.000000</td>\n",
       "      <td>94.000000</td>\n",
       "      <td>94.000000</td>\n",
       "      <td>94.000000</td>\n",
       "      <td>94.000000</td>\n",
       "      <td>94.000000</td>\n",
       "      <td>94.0</td>\n",
       "      <td>94.000000</td>\n",
       "      <td>94.000000</td>\n",
       "    </tr>\n",
       "    <tr>\n",
       "      <th>mean</th>\n",
       "      <td>0.247688</td>\n",
       "      <td>197.785266</td>\n",
       "      <td>4.579651</td>\n",
       "      <td>73.014182</td>\n",
       "      <td>656.536134</td>\n",
       "      <td>43.151156</td>\n",
       "      <td>18.413256</td>\n",
       "      <td>1.0</td>\n",
       "      <td>2.464158</td>\n",
       "      <td>0.763608</td>\n",
       "    </tr>\n",
       "    <tr>\n",
       "      <th>std</th>\n",
       "      <td>0.171519</td>\n",
       "      <td>724.483234</td>\n",
       "      <td>4.642850</td>\n",
       "      <td>33.044395</td>\n",
       "      <td>1942.761018</td>\n",
       "      <td>157.634505</td>\n",
       "      <td>15.620912</td>\n",
       "      <td>0.0</td>\n",
       "      <td>1.063199</td>\n",
       "      <td>1.489884</td>\n",
       "    </tr>\n",
       "    <tr>\n",
       "      <th>min</th>\n",
       "      <td>0.025149</td>\n",
       "      <td>0.108556</td>\n",
       "      <td>0.045539</td>\n",
       "      <td>0.000000</td>\n",
       "      <td>0.972423</td>\n",
       "      <td>0.079685</td>\n",
       "      <td>0.983474</td>\n",
       "      <td>1.0</td>\n",
       "      <td>-0.016665</td>\n",
       "      <td>-3.089184</td>\n",
       "    </tr>\n",
       "    <tr>\n",
       "      <th>25%</th>\n",
       "      <td>0.155541</td>\n",
       "      <td>2.874297</td>\n",
       "      <td>0.823145</td>\n",
       "      <td>61.070963</td>\n",
       "      <td>24.786033</td>\n",
       "      <td>2.805962</td>\n",
       "      <td>5.621943</td>\n",
       "      <td>1.0</td>\n",
       "      <td>1.725947</td>\n",
       "      <td>-0.195291</td>\n",
       "    </tr>\n",
       "    <tr>\n",
       "      <th>50%</th>\n",
       "      <td>0.206411</td>\n",
       "      <td>17.087489</td>\n",
       "      <td>2.565880</td>\n",
       "      <td>88.027040</td>\n",
       "      <td>88.232740</td>\n",
       "      <td>8.409836</td>\n",
       "      <td>14.566397</td>\n",
       "      <td>1.0</td>\n",
       "      <td>2.678591</td>\n",
       "      <td>0.920825</td>\n",
       "    </tr>\n",
       "    <tr>\n",
       "      <th>75%</th>\n",
       "      <td>0.280579</td>\n",
       "      <td>80.662085</td>\n",
       "      <td>7.670111</td>\n",
       "      <td>97.768910</td>\n",
       "      <td>403.598555</td>\n",
       "      <td>21.942667</td>\n",
       "      <td>27.169305</td>\n",
       "      <td>1.0</td>\n",
       "      <td>3.300853</td>\n",
       "      <td>2.037271</td>\n",
       "    </tr>\n",
       "    <tr>\n",
       "      <th>max</th>\n",
       "      <td>0.935758</td>\n",
       "      <td>5229.757152</td>\n",
       "      <td>19.800997</td>\n",
       "      <td>100.000000</td>\n",
       "      <td>15228.525307</td>\n",
       "      <td>1183.106459</td>\n",
       "      <td>66.130154</td>\n",
       "      <td>1.0</td>\n",
       "      <td>4.191625</td>\n",
       "      <td>2.985732</td>\n",
       "    </tr>\n",
       "  </tbody>\n",
       "</table>\n",
       "</div>"
      ],
      "text/plain": [
       "       edgar_co2gdp   edgar_co2t  edgar_co2pc  oecd_cctr_gdp           gdp  \\\n",
       "count     94.000000    94.000000    94.000000      94.000000     94.000000   \n",
       "mean       0.247688   197.785266     4.579651      73.014182    656.536134   \n",
       "std        0.171519   724.483234     4.642850      33.044395   1942.761018   \n",
       "min        0.025149     0.108556     0.045539       0.000000      0.972423   \n",
       "25%        0.155541     2.874297     0.823145      61.070963     24.786033   \n",
       "50%        0.206411    17.087489     2.565880      88.027040     88.232740   \n",
       "75%        0.280579    80.662085     7.670111      97.768910    403.598555   \n",
       "max        0.935758  5229.757152    19.800997     100.000000  15228.525307   \n",
       "\n",
       "               pop     gdp_pc  ones  ln_gdp_pc  ln_edgar_co2pc  \n",
       "count    94.000000  94.000000  94.0  94.000000       94.000000  \n",
       "mean     43.151156  18.413256   1.0   2.464158        0.763608  \n",
       "std     157.634505  15.620912   0.0   1.063199        1.489884  \n",
       "min       0.079685   0.983474   1.0  -0.016665       -3.089184  \n",
       "25%       2.805962   5.621943   1.0   1.725947       -0.195291  \n",
       "50%       8.409836  14.566397   1.0   2.678591        0.920825  \n",
       "75%      21.942667  27.169305   1.0   3.300853        2.037271  \n",
       "max    1183.106459  66.130154   1.0   4.191625        2.985732  "
      ]
     },
     "execution_count": 5,
     "metadata": {},
     "output_type": "execute_result"
    }
   ],
   "source": [
    "df.describe()"
   ]
  },
  {
   "cell_type": "markdown",
   "id": "c5465d61",
   "metadata": {},
   "source": [
    "- By looking at the summary statistics, we notice that actually `oecd_cctr_gdp` is probably not in percentage of GDP, but it looks like it has been normalized between 0 and 100, by some rule. For the scope of this exercise, we will not investigate this aspect further and we'll assume that this normalization is correct.\n",
    "- Let's use the canned routine `sm.OLS.from_formula` to study what happens when we include the new regressor revenues from carbon-related taxes `oecd_cctr_gdp`. First, let's re-run the model with GDP per capita only:"
   ]
  },
  {
   "cell_type": "code",
   "execution_count": 7,
   "id": "502d09ea",
   "metadata": {},
   "outputs": [
    {
     "data": {
      "text/html": [
       "<table class=\"simpletable\">\n",
       "<tr>\n",
       "      <td></td>         <th>coef</th>     <th>std err</th>      <th>t</th>      <th>P>|t|</th>  <th>[0.025</th>    <th>0.975]</th>  \n",
       "</tr>\n",
       "<tr>\n",
       "  <th>Intercept</th> <td>   -2.4732</td> <td>    0.136</td> <td>  -18.124</td> <td> 0.000</td> <td>   -2.744</td> <td>   -2.202</td>\n",
       "</tr>\n",
       "<tr>\n",
       "  <th>ln_gdp_pc</th> <td>    1.3136</td> <td>    0.051</td> <td>   25.811</td> <td> 0.000</td> <td>    1.212</td> <td>    1.415</td>\n",
       "</tr>\n",
       "</table>"
      ],
      "text/plain": [
       "<class 'statsmodels.iolib.table.SimpleTable'>"
      ]
     },
     "execution_count": 7,
     "metadata": {},
     "output_type": "execute_result"
    }
   ],
   "source": [
    "# canned ols\n",
    "ols_canned_results = sm.OLS.from_formula('ln_edgar_co2pc ~ ln_gdp_pc', df).fit()\n",
    "ols_canned_results_table = ols_canned_results.summary().tables[1]\n",
    "ols_canned_results_table"
   ]
  },
  {
   "cell_type": "markdown",
   "id": "9ba6f2aa",
   "metadata": {},
   "source": [
    "- OK same coefficient estimate of before of 1.3136 - so a 1% increase in GDP per capita leads to a 1.3136% increase in CO2 emissions per capita. Let's now include tax revenues. Remember, we expect that when we do not include revenues from carbon-related taxes we are underestimating the coefficient of GDP per capita. So when we include revenues from carbon-related taxes, it's as if we are controlling for it, i.e. we keep it constant, and the coefficient of GDP should therefore increase (if we are right). Let's try:"
   ]
  },
  {
   "cell_type": "code",
   "execution_count": 8,
   "id": "0052b98f",
   "metadata": {},
   "outputs": [
    {
     "data": {
      "text/html": [
       "<table class=\"simpletable\">\n",
       "<tr>\n",
       "        <td></td>           <th>coef</th>     <th>std err</th>      <th>t</th>      <th>P>|t|</th>  <th>[0.025</th>    <th>0.975]</th>  \n",
       "</tr>\n",
       "<tr>\n",
       "  <th>Intercept</th>     <td>   -2.3660</td> <td>    0.167</td> <td>  -14.131</td> <td> 0.000</td> <td>   -2.699</td> <td>   -2.033</td>\n",
       "</tr>\n",
       "<tr>\n",
       "  <th>ln_gdp_pc</th>     <td>    1.3245</td> <td>    0.052</td> <td>   25.575</td> <td> 0.000</td> <td>    1.222</td> <td>    1.427</td>\n",
       "</tr>\n",
       "<tr>\n",
       "  <th>oecd_cctr_gdp</th> <td>   -0.0018</td> <td>    0.002</td> <td>   -1.102</td> <td> 0.273</td> <td>   -0.005</td> <td>    0.001</td>\n",
       "</tr>\n",
       "</table>"
      ],
      "text/plain": [
       "<class 'statsmodels.iolib.table.SimpleTable'>"
      ]
     },
     "execution_count": 8,
     "metadata": {},
     "output_type": "execute_result"
    }
   ],
   "source": [
    "# canned ols\n",
    "ols_canned_results = sm.OLS.from_formula('ln_edgar_co2pc ~ ln_gdp_pc + oecd_cctr_gdp', df).fit()\n",
    "ols_canned_results_table = ols_canned_results.summary().tables[1]\n",
    "ols_canned_results_table"
   ]
  },
  {
   "cell_type": "markdown",
   "id": "f217f3ea",
   "metadata": {},
   "source": [
    "- OK so almost as expected. First of all, the coefficient estimate of GDP per capita indeed increased from 1.3136 to 1.3245 - and looking at the p-value we can infer that the population parameter is different from zero, and that the probability that we are being wrong when making this claim (inference) is lower than 1%. From now on, we can summarize all this by saying that results are statistically significant at the 1-% level. Second, the coefficient of the revenues from carbon-related taxes is indeed negative, indicating that countries with higher tax rates on carbon have lower emissions. However, the p-value of this coefficient estimate is 0.273, which means that this result is not statistically significant even at the 10-% level. In short, based on our sample, we cannot say that the effect of carbon-related taxes on CO2 emissions per capita is different than zero.\n",
    "- For now, let's postpone the discussion on the correct specification, and lets try whether the functions we have written by hand work also with this extra regressor. As we wrote our code in a very general way, using matrix notation, they should right? Let's see. Here are our functions:"
   ]
  },
  {
   "cell_type": "code",
   "execution_count": 9,
   "id": "5e263f38",
   "metadata": {},
   "outputs": [],
   "source": [
    "# define our functions\n",
    "\n",
    "# function to transform panda series into vectors / matrices\n",
    "def data_to_matrix(data, variab_name):\n",
    "    \n",
    "    \"\"\" My Data to Matrix Function \"\"\"\n",
    "    \n",
    "    # store in matrixes\n",
    "    matrix = data.loc[:,variab_name].to_numpy()\n",
    "    \n",
    "    # make column vectors for arrays with less than 2 dimensions\n",
    "    if len(matrix.shape) == 1:\n",
    "        matrix = np.atleast_2d(matrix).T\n",
    "        \n",
    "    # return result\n",
    "    return matrix\n",
    "\n",
    "# ols function\n",
    "def OLS_estimator(data, y, X):\n",
    "    \n",
    "    \"\"\" My Sample Mean Function \"\"\"\n",
    "    \n",
    "    # store in matrixes\n",
    "    ydata = data_to_matrix(data, variab_name = y)\n",
    "    xdata = data_to_matrix(data, variab_name = X)\n",
    "    \n",
    "    # get params\n",
    "    N = len(ydata)\n",
    "    K = xdata.shape[1]\n",
    "    DF = N-K\n",
    "\n",
    "    # get OLS estimate\n",
    "    betahat_OLS = (inv(xdata.T @ xdata)) @ (xdata.T @ ydata)\n",
    "    \n",
    "    # get standard errors\n",
    "    resid_OLS = (ydata - xdata @ betahat_OLS)\n",
    "    sigma2hat_OLS = (resid_OLS.T @ resid_OLS) / DF\n",
    "    betahat_OLS_vcov = sigma2hat_OLS * inv(xdata.T @ xdata)\n",
    "    sehat_OLS = np.atleast_2d(np.sqrt(betahat_OLS_vcov.diagonal())).T\n",
    "    \n",
    "    # get t stat\n",
    "    t_stat_OLS = betahat_OLS / sehat_OLS\n",
    "    \n",
    "    # get p values and confidence intervals\n",
    "    \n",
    "    # create objects to store results\n",
    "    p_values_OLS = np.empty((K,1,))\n",
    "    ci_low_OLS = np.empty((K,1,))\n",
    "    ci_high_OLS = np.empty((K,1,))\n",
    "    \n",
    "    # run loop\n",
    "    for i in range(K):\n",
    "        \n",
    "        # get p value\n",
    "        lower_area = stats.t.cdf(-abs(float(t_stat_OLS[i])), df = DF)\n",
    "        upper_area = lower_area\n",
    "        p_value = lower_area + upper_area\n",
    "        p_values_OLS[i] = p_value\n",
    "\n",
    "        # get confidence interval\n",
    "        alpha_inv = (1.0-0.05)\n",
    "        q1 = (1+alpha_inv)/2\n",
    "        ci_critical = stats.t.ppf(q1, DF)\n",
    "        ci_low_OLS[i] = betahat_OLS[i]-(ci_critical*sehat_OLS[i])\n",
    "        ci_high_OLS[i] = betahat_OLS[i]+(ci_critical*sehat_OLS[i])\n",
    "\n",
    "    # get table\n",
    "    df_res = pd.DataFrame(index=np.arange(K), columns=np.arange(7))\n",
    "    df_res.columns = [\"variable\",\"coef\",\"std err\",\"t\",\"P>|t|\",\"[0.025\",\"0.975]\"]\n",
    "    df_res[\"variable\"] = X\n",
    "    df_res[\"coef\"] = np.around(betahat_OLS, 4)\n",
    "    df_res[\"std err\"] = np.around(sehat_OLS, 3)\n",
    "    df_res[\"t\"] = np.around(t_stat_OLS, 3)\n",
    "    df_res[\"P>|t|\"] = np.around(p_values_OLS, 3)\n",
    "    df_res[\"[0.025\"] = np.around(ci_low_OLS, 3)\n",
    "    df_res[\"0.975]\"] = np.around(ci_high_OLS, 3)\n",
    "\n",
    "    # return\n",
    "    return df_res"
   ]
  },
  {
   "cell_type": "markdown",
   "id": "f31365c8",
   "metadata": {},
   "source": [
    "- Let's give it a try:"
   ]
  },
  {
   "cell_type": "code",
   "execution_count": 10,
   "id": "a87163b0",
   "metadata": {},
   "outputs": [
    {
     "data": {
      "text/html": [
       "<div>\n",
       "<style scoped>\n",
       "    .dataframe tbody tr th:only-of-type {\n",
       "        vertical-align: middle;\n",
       "    }\n",
       "\n",
       "    .dataframe tbody tr th {\n",
       "        vertical-align: top;\n",
       "    }\n",
       "\n",
       "    .dataframe thead th {\n",
       "        text-align: right;\n",
       "    }\n",
       "</style>\n",
       "<table border=\"1\" class=\"dataframe\">\n",
       "  <thead>\n",
       "    <tr style=\"text-align: right;\">\n",
       "      <th></th>\n",
       "      <th>variable</th>\n",
       "      <th>coef</th>\n",
       "      <th>std err</th>\n",
       "      <th>t</th>\n",
       "      <th>P&gt;|t|</th>\n",
       "      <th>[0.025</th>\n",
       "      <th>0.975]</th>\n",
       "    </tr>\n",
       "  </thead>\n",
       "  <tbody>\n",
       "    <tr>\n",
       "      <th>0</th>\n",
       "      <td>ones</td>\n",
       "      <td>-2.3660</td>\n",
       "      <td>0.167</td>\n",
       "      <td>-14.131</td>\n",
       "      <td>0.000</td>\n",
       "      <td>-2.699</td>\n",
       "      <td>-2.033</td>\n",
       "    </tr>\n",
       "    <tr>\n",
       "      <th>1</th>\n",
       "      <td>ln_gdp_pc</td>\n",
       "      <td>1.3245</td>\n",
       "      <td>0.052</td>\n",
       "      <td>25.575</td>\n",
       "      <td>0.000</td>\n",
       "      <td>1.222</td>\n",
       "      <td>1.427</td>\n",
       "    </tr>\n",
       "    <tr>\n",
       "      <th>2</th>\n",
       "      <td>oecd_cctr_gdp</td>\n",
       "      <td>-0.0018</td>\n",
       "      <td>0.002</td>\n",
       "      <td>-1.102</td>\n",
       "      <td>0.273</td>\n",
       "      <td>-0.005</td>\n",
       "      <td>0.001</td>\n",
       "    </tr>\n",
       "  </tbody>\n",
       "</table>\n",
       "</div>"
      ],
      "text/plain": [
       "        variable    coef  std err       t  P>|t|  [0.025  0.975]\n",
       "0           ones -2.3660    0.167 -14.131  0.000  -2.699  -2.033\n",
       "1      ln_gdp_pc  1.3245    0.052  25.575  0.000   1.222   1.427\n",
       "2  oecd_cctr_gdp -0.0018    0.002  -1.102  0.273  -0.005   0.001"
      ]
     },
     "execution_count": 10,
     "metadata": {},
     "output_type": "execute_result"
    }
   ],
   "source": [
    "# try\n",
    "OLS_estimator(data = df, y = \"ln_edgar_co2pc\", X = [\"ones\",\"ln_gdp_pc\",\"oecd_cctr_gdp\"])"
   ]
  },
  {
   "cell_type": "markdown",
   "id": "33ec3105",
   "metadata": {},
   "source": [
    "- Yep our functions works! We've been good. Note that usually the routines in Stata (and Python I think) for multivariate regressions use the Frisch-Waugh-Lovell Theorem to estimate the single regressors' coefficients. This is much more efficient when the number of regressors become high, or when we have fixed effects. We will not cover it in this class, but you should check the material on [Partitioned Regression](https://static1.squarespace.com/static/558eff8ce4b023b6b855320a/t/573162b320c6478f4961c5bb/1462854326527/ARE_212_Section_4.pdf) by Fiona Burlig, who shows how to do this in R in details and explains why this theorem is so important.\n",
    "- OK cool, now back to the discussion about whether we should keep this new variable in our regression or not. As the coefficient estimate is not statistically significant, excluding this regressor from our regression should not bias our estimate for the coefficient of the natural logarithm of GDP per capita. But still we did see that this coefficient estimate nonetheless increased when we included carbon-related taxes. So which specification is the correct, with or without carbon-related taxes? \n",
    "- One more thing we can check is whether the fit of our model changed or not. To do that we need to check the R-Squared. As we did not implement the R-Squared in our functions (we could have, but we got lazy), let's use again the canned routine and have a look with the stargazer package:"
   ]
  },
  {
   "cell_type": "code",
   "execution_count": 14,
   "id": "5915bab9",
   "metadata": {},
   "outputs": [
    {
     "data": {
      "text/html": [
       "<table style=\"text-align:center\"><tr><td colspan=\"3\" style=\"border-bottom: 1px solid black\"></td></tr><tr><td style=\"text-align:left\"></td><td colspan=\"2\"><em>Dependent variable:ln_edgar_co2pc</em></td></tr><tr><td style=\"text-align:left\"></td><tr><td style=\"text-align:left\"></td><td>(1)</td><td>(2)</td></tr><tr><td colspan=\"3\" style=\"border-bottom: 1px solid black\"></td></tr><tr><td style=\"text-align:left\">Intercept</td><td>-2.473<sup>***</sup></td><td>-2.366<sup>***</sup></td></tr><tr><td style=\"text-align:left\"></td><td>(0.136)</td><td>(0.167)</td></tr><tr><td style=\"text-align:left\">ln_gdp_pc</td><td>1.314<sup>***</sup></td><td>1.324<sup>***</sup></td></tr><tr><td style=\"text-align:left\"></td><td>(0.051)</td><td>(0.052)</td></tr><tr><td style=\"text-align:left\">oecd_cctr_gdp</td><td></td><td>-0.002<sup></sup></td></tr><tr><td style=\"text-align:left\"></td><td></td><td>(0.002)</td></tr><td colspan=\"3\" style=\"border-bottom: 1px solid black\"></td></tr><tr><td style=\"text-align: left\">Observations</td><td>94</td><td>94</td></tr><tr><td style=\"text-align: left\">R<sup>2</sup></td><td>0.879</td><td>0.880</td></tr><tr><td style=\"text-align: left\">Adjusted R<sup>2</sup></td><td>0.877</td><td>0.878</td></tr><tr><td style=\"text-align: left\">Residual Std. Error</td><td>0.522 (df=92)</td><td>0.521 (df=91)</td></tr><tr><td style=\"text-align: left\">F Statistic</td><td>666.230<sup>***</sup> (df=1; 92)</td><td>334.502<sup>***</sup> (df=2; 91)</td></tr><tr><td colspan=\"3\" style=\"border-bottom: 1px solid black\"></td></tr><tr><td style=\"text-align: left\">Note:</td>\n",
       " <td colspan=\"2\" style=\"text-align: right\">\n",
       "  <sup>*</sup>p&lt;0.1;\n",
       "  <sup>**</sup>p&lt;0.05;\n",
       "  <sup>***</sup>p&lt;0.01\n",
       " </td></tr></table>"
      ],
      "text/plain": [
       "<stargazer.stargazer.Stargazer at 0x7fced935b850>"
      ]
     },
     "execution_count": 14,
     "metadata": {},
     "output_type": "execute_result"
    }
   ],
   "source": [
    "ols_canned_results = sm.OLS.from_formula('ln_edgar_co2pc ~ ln_gdp_pc', df).fit()\n",
    "ols_canned_results_tax = sm.OLS.from_formula('ln_edgar_co2pc ~ ln_gdp_pc + oecd_cctr_gdp', df).fit()\n",
    "stargazer = Stargazer([ols_canned_results, ols_canned_results_tax])\n",
    "stargazer"
   ]
  },
  {
   "cell_type": "markdown",
   "id": "8ddbdeb1",
   "metadata": {},
   "source": [
    "- The R-Squared increases marginally. This table also reports the the adjusted R-Squared and the F statistic. As the R-Squared by construction increases as we add regressors, the adjusted R-Squared does not (for more information, see Green). So as also the adjusted R-Squared increases marginally, we can say that this small increase reflects an actual improvement in the fit of the model, and not the fact that we have added another regressor. Finally the F statistic is a test statistic for the joint significance of the regressors. As we included carbon-related taxes, this t-statistic largely decreased. However, it still remains high (3 starts are still there), so we might think that even with the carbon-related taxes the coefficient estimates are jointly significant at the 1% level.\n",
    "- So conclusion: should we keep or not carbon-related taxes in the regression? There is no real way to decide, and it's a bit up to us. Specifically, in this sample it is not a large source of omitted-variable bias, so we can drop it. In general, omitting it might lead to omitted-variable bias in other samples, so we might want to keep it."
   ]
  },
  {
   "cell_type": "markdown",
   "id": "49eb123c",
   "metadata": {},
   "source": [
    "### Other Sources of Endogeneity\n",
    "- In this class we won't have time to go through the other sources of endogeneity in Python. Let's quickly mention them here.\n",
    "- Simultaneity / reverse causality. The omitted variable case is not the only one: the error term can be correlated with the regressors when there is reverse causality (or simultaneity), i.e. whenever the dependent variable has an direct effect on the regressors. Imagine for instance that you want to test the effect of financial development on economic growth. There might be a reverse causality problem, as economic growth positively affects demand for credit and the size of the financial system. This causes correlation between the error term and the regressors: when the error term increases, it will increase financial development.\n",
    "- Error-in-variables. Let's assume our single-regressor model is $y = \\beta x + v$. Imagine that instead of $x$, you observe $\\breve{x} = x + \\epsilon$: the regressor is observed with error. Assume that this error is uncorrelated with $x$, $y$ and $v$: $\\mathrm{E}(ve)=\\mathrm{E}(xe)=\\mathrm{E}(ye)=0$. This is a very common problem, and is called classical measurement error. We can rewrite our model as $y = \\beta(\\breve{x}-\\epsilon)+v=\\beta \\breve{x}+(v-\\beta\\epsilon)$. Part of the error term now contains $\\epsilon$: as \\breve{x} and $\\epsilon$ are positively correlated, the OLS estimation will generate a negative bias in $\\hat{\\beta}$ if the true $\\beta$ is positive, and a positive bias if the true $\\beta$ is negative. The non-classical measurement error, i.e. cases where $\\mathrm{E}(xe)\\neq 0$, exacerbates the problem.\n",
    "- Sample selection. The general idea is that the correlation between the error term and the regressors might come from the way in which the sample is constructed or selected."
   ]
  },
  {
   "cell_type": "markdown",
   "id": "3aea4d5c",
   "metadata": {},
   "source": [
    "### Interaction Terms\n",
    "- So far we have estimated the population model $ln\\_edgar\\_co2pc = \\beta_0 + ln\\_gdp\\_pc\\beta_1 + oecd\\_cctr\\_gdp\\beta_2 + \\epsilon$. We did it because we believe that countries with high GDP per capita might also have higher carbon taxes, and if we do not control for the latter we might be underestimating our coefficient of interest, as with high taxes individuals are not free to consume as much as they wanted to. By including carbon-related taxes in our model, we were able to estimate the effect of GDP per capita on CO2 emissions per capita by keeping carbon-related taxes constant. We have seen that results do not change much.\n",
    "- Let us now ask ourselves a slightly different question. Do we have reasons to believe that the effect of GDP per capita on CO2 emissions might change as carbon-related taxes increase? Maybe. Indeed, to motivate the direction of the potential bias, we said that without any carbon tax people might buy even more carbon-intensive goods, and thus emit even more. So what we are saying is that our channel might be even stronger in countries with low carbon taxes, with respect to others.\n",
    "- Note that here our logic is slightly different than the one we used to think about omitted-variable bias. Indeed, the source of omitted-variable bias had to meet 2 conditions, i.e. (i) $x_2$ is correlated to $x_1$, (ii) $x_2$ itself explains $y$. Now, we are thinking about an $x_2$ that meets 2 slightly different conditions, i.e (i) $x_2$ is correlated to $x_1$, (ii) the interaction between $x_2$ and $x_1$ explains $y$. I am saying this because even if a variable is not necessarily a source of omitted-variable bias, its interaction with another regressor may still help explaining the variation of our dependent variable, so we still may want to model such interaction. This links to what our own Quentin did in his article in Towards Data Science. When we thought about rain as a possible source of heterogeneity, he did not worry about whether rain itself explained the stringency of environmental regulations. Differently, what he thought is that maybe the fact that heat waves make policy makers more aware of climate change (and therefore they make laws about it) is even more straightforward in countries where it does not rain, regardless of whether rain itself can change the opinion of policymakers about climate change. Cool.\n",
    "- OK so since we are interested about how the impact of GDP per capita on CO2 emissions per capita might change at different level of carbon taxes, let's model it shall we? We do so with an interaction term.\n",
    "- Graphically, we can visualize such interaction by creating a binary variable that equals 0 for countries with low carbon tax and 1 for countries with high carbon tax. For example, we can use the median as a the splitting threshold. Let's do it:"
   ]
  },
  {
   "cell_type": "code",
   "execution_count": 15,
   "id": "523aeaea",
   "metadata": {},
   "outputs": [],
   "source": [
    "median = df['oecd_cctr_gdp'].median()\n",
    "df['dummy_oecd_cctr_gdp'] = df['oecd_cctr_gdp'] >= median\n",
    "df[\"dummy_oecd_cctr_gdp\"] = df[\"dummy_oecd_cctr_gdp\"].astype(int)"
   ]
  },
  {
   "cell_type": "markdown",
   "id": "c3136c77",
   "metadata": {},
   "source": [
    "- OK so our main channel is that countries with higher GDP per capita have higher CO2 emissions per capita. As carbon taxes do not allow people to consume as much carbon-intensive goods as they want, we expect our channel to be less strong in countries where carbon taxes are high. Translated, we expect our regression line to be less steep in countries that have an above-median carbon tax.\n",
    "- So first we need to make a graph in which we differentiate below-median and above-median countries:"
   ]
  },
  {
   "cell_type": "code",
   "execution_count": 16,
   "id": "f90202e2",
   "metadata": {},
   "outputs": [
    {
     "data": {
      "text/plain": [
       "<AxesSubplot:xlabel='ln_gdp_pc', ylabel='ln_edgar_co2pc'>"
      ]
     },
     "execution_count": 16,
     "metadata": {},
     "output_type": "execute_result"
    },
    {
     "data": {
      "image/png": "[encoded data removed]",
      "text/plain": [
       "<Figure size 640x360 with 1 Axes>"
      ]
     },
     "metadata": {},
     "output_type": "display_data"
    }
   ],
   "source": [
    "sns.scatterplot(x='ln_gdp_pc', y='ln_edgar_co2pc', data=df, hue=\"dummy_oecd_cctr_gdp\")"
   ]
  },
  {
   "cell_type": "markdown",
   "id": "6b399230",
   "metadata": {},
   "source": [
    "- OK it looks like indeed the cloud of countries below median (blue) follows a slightly steeper upward trend than countries below the median (orange). Let's plot the OLS fit lines using `lmplot`:"
   ]
  },
  {
   "cell_type": "code",
   "execution_count": 17,
   "id": "e95ba78a",
   "metadata": {},
   "outputs": [
    {
     "data": {
      "text/plain": [
       "<seaborn.axisgrid.FacetGrid at 0x7fceede1dbb0>"
      ]
     },
     "execution_count": 17,
     "metadata": {},
     "output_type": "execute_result"
    },
    {
     "data": {
      "image/png": "[encoded data removed]",
      "text/plain": [
       "<Figure size 781.222x350 with 1 Axes>"
      ]
     },
     "metadata": {},
     "output_type": "display_data"
    }
   ],
   "source": [
    "sns.lmplot(x='ln_gdp_pc', y='ln_edgar_co2pc', data=df, hue=\"dummy_oecd_cctr_gdp\", height=3.5, aspect=1.7, ci=False)"
   ]
  },
  {
   "cell_type": "markdown",
   "id": "4db08a49",
   "metadata": {},
   "source": [
    "- Yep indeed. The blue line is slightly steeper than the orange line. That means that, on average, the impact of GDP per capita on CO2 emissions per capita might be lower (fit line is less steep) in countries with higher carbon tax.\n",
    "- OK nice. Now that we have the graphical representation, let's see if we can confirm this in a regression setup. We do so by inserting an interaction term between the natural logarithm of GDP per capita and our proxy for carbon taxes. So the population model we now aim to estimate is the following:\n",
    "<br><br>\n",
    "$$\n",
    "ln\\_edgar\\_co2pc = \\beta_0 + \\beta_1 ln\\_gdp\\_pc + \\beta_2 oecd\\_cctr\\_gdp + \\beta_3 (ln\\_gdp\\_pc\\times oecd\\_cctr\\_gdp) + \\epsilon\n",
    "$$\n",
    "<br>\n",
    "- In this model, $\\beta_3$ is the following second partial derivative:\n",
    "<br><br>\n",
    "$$\n",
    "\\frac{\\partial \\, \\mathrm{E}(ln\\_edgar\\_co2pc \\, | \\, ln\\_gdp\\_p, \\,oecd\\_cctr\\_gdp)}{\\partial \\, ln\\_gdp\\_pc \\, \\, \\partial \\, oecd\\_cctr\\_gdp} = \\beta_3\n",
    "$$\n",
    "<br>\n",
    "- Intuitively, the coefficient $\\beta_3$ expresses how the impact of one unit increase in GDP per capita on CO2 emissions varies as carbon taxes increase by one unit. \n",
    "- CAUTION: in this regression model, $\\beta_1$ has a different meaning than the one it had above (first partial derivative). Indeed now if you take the first partial derivative you get \n",
    "<br><br>\n",
    "$$\n",
    "\\frac{\\partial \\, \\mathrm{E}(ln\\_edgar\\_co2pc \\, | \\, ln\\_gdp\\_p, \\,oecd\\_cctr\\_gdp)}{\\partial \\, ln\\_gdp\\_pc} = \\beta_1 + \\beta_3 oecd\\_cctr\\_gdp\n",
    "$$\n",
    "<br>\n",
    "- And therefore you can see that now $\\beta_1$ equals the first partial derivative of `ln_edgar_co2pc` by `ln_gdp_pc` when `oecd_cctr_gdp`$= 0$:\n",
    "<br><br>\n",
    "$$\n",
    "\\frac{\\partial \\, \\mathrm{E}(ln\\_edgar\\_co2pc \\, | \\, ln\\_gdp\\_p, \\,oecd\\_cctr\\_gdp)}{\\partial \\, ln\\_gdp\\_pc} \\Bigr|_{\\substack{oecd\\_cctr\\_gdp=0}}  = \\beta_1\n",
    "$$\n",
    "<br>\n",
    "- Same concept applies to $\\beta_2$. Whether $\\beta_1$ and $\\beta_2$ have economic meaning depends on who the 2 regressors are built. For example, $\\beta_1$ now is the impact of GDP per capita on CO2 emissions per capita when the carbon tax in zero, which can be interesting to comment, as it should be much higher than before. Then, $\\beta_1$ now is the impact of carbon taxes on CO2 emissions per capita when GDP per capita is zero, which does not have much economic sense as there are no countries where GDP per capita is actually zero dollars. This being said, note the following rule of thumb: when you estimate interaction models, you always (always) include also the single regressors, even if their coefficient estimates do not have much economic meaning.\n",
    "- Finally note that if instead of using `oecd_cctr_gdp` we used `dummy_oecd_cctr_gdp`, we would be doing exactly the same of the graph we plotted. But let's start simple and do this later.\n",
    "- OK so let's estimate the parameters of our newly-defined population with the OLS estimator. Let's set our expectations for the coefficient estimates. If our reasoning applies, we expect a strongly positive estimate for $\\beta_1$ (higher than before), we have no expectations on $\\beta_2$ (as it has no economic meaning), and we expect a negative estimate for $\\beta_3$ (the positive impact of a one-unit variation in GDP per capita on CO2 emissions is lower as carbon tax increase by one unit). Let's do it with the canned routine first, using the `*` sign (which automatically also includes the single regressors):"
   ]
  },
  {
   "cell_type": "code",
   "execution_count": 18,
   "id": "64899405",
   "metadata": {},
   "outputs": [
    {
     "data": {
      "text/html": [
       "<table class=\"simpletable\">\n",
       "<tr>\n",
       "             <td></td>                <th>coef</th>     <th>std err</th>      <th>t</th>      <th>P>|t|</th>  <th>[0.025</th>    <th>0.975]</th>  \n",
       "</tr>\n",
       "<tr>\n",
       "  <th>Intercept</th>               <td>   -2.7480</td> <td>    0.314</td> <td>   -8.746</td> <td> 0.000</td> <td>   -3.372</td> <td>   -2.124</td>\n",
       "</tr>\n",
       "<tr>\n",
       "  <th>ln_gdp_pc</th>               <td>    1.5127</td> <td>    0.141</td> <td>   10.728</td> <td> 0.000</td> <td>    1.233</td> <td>    1.793</td>\n",
       "</tr>\n",
       "<tr>\n",
       "  <th>oecd_cctr_gdp</th>           <td>    0.0032</td> <td>    0.004</td> <td>    0.830</td> <td> 0.409</td> <td>   -0.005</td> <td>    0.011</td>\n",
       "</tr>\n",
       "<tr>\n",
       "  <th>ln_gdp_pc:oecd_cctr_gdp</th> <td>   -0.0024</td> <td>    0.002</td> <td>   -1.434</td> <td> 0.155</td> <td>   -0.006</td> <td>    0.001</td>\n",
       "</tr>\n",
       "</table>"
      ],
      "text/plain": [
       "<class 'statsmodels.iolib.table.SimpleTable'>"
      ]
     },
     "execution_count": 18,
     "metadata": {},
     "output_type": "execute_result"
    }
   ],
   "source": [
    "# canned ols\n",
    "ols_canned_results = sm.OLS.from_formula('ln_edgar_co2pc ~ ln_gdp_pc*oecd_cctr_gdp', df).fit()\n",
    "ols_canned_results_table = ols_canned_results.summary().tables[1]\n",
    "ols_canned_results_table"
   ]
  },
  {
   "cell_type": "markdown",
   "id": "552dc8bc",
   "metadata": {},
   "source": [
    "- Our expectations have been met!! First, the coefficient estimate for `ln_gdp_pc` of 1.5127 indicates that a one-% increase in GDP per capita leads CO2 emissions per capita to increase by 1.5127% when the revenues from carbon taxes are zero (larger than the 1.314% impact found before). This result remains statistically significant at a 1% level. Second, the coefficient estimate for the interaction between GDP per capita and carbon-tax revenues (`ln_gdp_pc:oecd_cctr_gdp`) of -0.0024 tells us that the impact of GDP per capita on CO2 emissions is, on average, 0.0024 percentage points lower as our index for carbon-tax revenues increase by one unit. However, the p-value of 0.155 tells us that this result is not statistically significant at the 10-% level. Translated: based on our estimate, we cannot reject the null hypothesis that our impact remains the same as our variable for carbon-tax revenues increases by one unit. Let's come back to this in a second, and now let's see how we can get to the same result with our own OLS function.\n",
    "- In our function, we did not write any formula type of input, as we have in the canned routine. So to work with interactions, we need to create them. Let's create the variable for the interaction between `ln_gdp_pc` and `oecd_cctr_gdp`:"
   ]
  },
  {
   "cell_type": "code",
   "execution_count": 19,
   "id": "300930b6",
   "metadata": {},
   "outputs": [],
   "source": [
    "# create interaction\n",
    "df[\"ln_gdp_pc_times_oecd_cctr_gdp\"] = df[\"ln_gdp_pc\"]*df[\"oecd_cctr_gdp\"]"
   ]
  },
  {
   "cell_type": "markdown",
   "id": "3c127aa9",
   "metadata": {},
   "source": [
    "- And let's run our function by adding `ln_gdp_pc_times_oecd_cctr_gdp` as an extra variable in our data matrix $X$:"
   ]
  },
  {
   "cell_type": "code",
   "execution_count": 20,
   "id": "a62e25d6",
   "metadata": {},
   "outputs": [
    {
     "data": {
      "text/html": [
       "<div>\n",
       "<style scoped>\n",
       "    .dataframe tbody tr th:only-of-type {\n",
       "        vertical-align: middle;\n",
       "    }\n",
       "\n",
       "    .dataframe tbody tr th {\n",
       "        vertical-align: top;\n",
       "    }\n",
       "\n",
       "    .dataframe thead th {\n",
       "        text-align: right;\n",
       "    }\n",
       "</style>\n",
       "<table border=\"1\" class=\"dataframe\">\n",
       "  <thead>\n",
       "    <tr style=\"text-align: right;\">\n",
       "      <th></th>\n",
       "      <th>variable</th>\n",
       "      <th>coef</th>\n",
       "      <th>std err</th>\n",
       "      <th>t</th>\n",
       "      <th>P&gt;|t|</th>\n",
       "      <th>[0.025</th>\n",
       "      <th>0.975]</th>\n",
       "    </tr>\n",
       "  </thead>\n",
       "  <tbody>\n",
       "    <tr>\n",
       "      <th>0</th>\n",
       "      <td>ones</td>\n",
       "      <td>-2.7480</td>\n",
       "      <td>0.314</td>\n",
       "      <td>-8.746</td>\n",
       "      <td>0.000</td>\n",
       "      <td>-3.372</td>\n",
       "      <td>-2.124</td>\n",
       "    </tr>\n",
       "    <tr>\n",
       "      <th>1</th>\n",
       "      <td>ln_gdp_pc</td>\n",
       "      <td>1.5127</td>\n",
       "      <td>0.141</td>\n",
       "      <td>10.728</td>\n",
       "      <td>0.000</td>\n",
       "      <td>1.233</td>\n",
       "      <td>1.793</td>\n",
       "    </tr>\n",
       "    <tr>\n",
       "      <th>2</th>\n",
       "      <td>oecd_cctr_gdp</td>\n",
       "      <td>0.0032</td>\n",
       "      <td>0.004</td>\n",
       "      <td>0.830</td>\n",
       "      <td>0.409</td>\n",
       "      <td>-0.005</td>\n",
       "      <td>0.011</td>\n",
       "    </tr>\n",
       "    <tr>\n",
       "      <th>3</th>\n",
       "      <td>ln_gdp_pc_times_oecd_cctr_gdp</td>\n",
       "      <td>-0.0024</td>\n",
       "      <td>0.002</td>\n",
       "      <td>-1.434</td>\n",
       "      <td>0.155</td>\n",
       "      <td>-0.006</td>\n",
       "      <td>0.001</td>\n",
       "    </tr>\n",
       "  </tbody>\n",
       "</table>\n",
       "</div>"
      ],
      "text/plain": [
       "                        variable    coef  std err       t  P>|t|  [0.025  \\\n",
       "0                           ones -2.7480    0.314  -8.746  0.000  -3.372   \n",
       "1                      ln_gdp_pc  1.5127    0.141  10.728  0.000   1.233   \n",
       "2                  oecd_cctr_gdp  0.0032    0.004   0.830  0.409  -0.005   \n",
       "3  ln_gdp_pc_times_oecd_cctr_gdp -0.0024    0.002  -1.434  0.155  -0.006   \n",
       "\n",
       "   0.975]  \n",
       "0  -2.124  \n",
       "1   1.793  \n",
       "2   0.011  \n",
       "3   0.001  "
      ]
     },
     "execution_count": 20,
     "metadata": {},
     "output_type": "execute_result"
    }
   ],
   "source": [
    "# by hand\n",
    "OLS_estimator(data = df, y = \"ln_edgar_co2pc\", X = [\"ones\",\"ln_gdp_pc\",\"oecd_cctr_gdp\",\n",
    "                                                    \"ln_gdp_pc_times_oecd_cctr_gdp\"])"
   ]
  },
  {
   "cell_type": "markdown",
   "id": "e283eccc",
   "metadata": {},
   "source": [
    "- It works!!!\n",
    "- Now, we said that the coefficient estimate of -0.0024 is not statistically significant at the 10-% level. OK but our graph was saying that when we differentiate between countries below and above the median of carbon-tax revenues, we could see a difference. Let's reproduce exactly this in a regression set up. To do that, instead of using `oecd_cctr_gdp`, let's use `dummy_oecd_cctr_gdp` and interact it with `ln_gdp_pc`.\n",
    "- As we know that our own OLS function works, let's use it:"
   ]
  },
  {
   "cell_type": "code",
   "execution_count": 21,
   "id": "e3304c85",
   "metadata": {},
   "outputs": [],
   "source": [
    "# create interaction\n",
    "df[\"ln_gdp_pc_times_dummy_oecd_cctr_gdp\"] = df[\"ln_gdp_pc\"]*df[\"dummy_oecd_cctr_gdp\"]"
   ]
  },
  {
   "cell_type": "code",
   "execution_count": 22,
   "id": "8b1e7f00",
   "metadata": {},
   "outputs": [
    {
     "data": {
      "text/html": [
       "<div>\n",
       "<style scoped>\n",
       "    .dataframe tbody tr th:only-of-type {\n",
       "        vertical-align: middle;\n",
       "    }\n",
       "\n",
       "    .dataframe tbody tr th {\n",
       "        vertical-align: top;\n",
       "    }\n",
       "\n",
       "    .dataframe thead th {\n",
       "        text-align: right;\n",
       "    }\n",
       "</style>\n",
       "<table border=\"1\" class=\"dataframe\">\n",
       "  <thead>\n",
       "    <tr style=\"text-align: right;\">\n",
       "      <th></th>\n",
       "      <th>variable</th>\n",
       "      <th>coef</th>\n",
       "      <th>std err</th>\n",
       "      <th>t</th>\n",
       "      <th>P&gt;|t|</th>\n",
       "      <th>[0.025</th>\n",
       "      <th>0.975]</th>\n",
       "    </tr>\n",
       "  </thead>\n",
       "  <tbody>\n",
       "    <tr>\n",
       "      <th>0</th>\n",
       "      <td>ones</td>\n",
       "      <td>-2.6555</td>\n",
       "      <td>0.191</td>\n",
       "      <td>-13.924</td>\n",
       "      <td>0.000</td>\n",
       "      <td>-3.034</td>\n",
       "      <td>-2.277</td>\n",
       "    </tr>\n",
       "    <tr>\n",
       "      <th>1</th>\n",
       "      <td>ln_gdp_pc</td>\n",
       "      <td>1.4060</td>\n",
       "      <td>0.073</td>\n",
       "      <td>19.151</td>\n",
       "      <td>0.000</td>\n",
       "      <td>1.260</td>\n",
       "      <td>1.552</td>\n",
       "    </tr>\n",
       "    <tr>\n",
       "      <th>2</th>\n",
       "      <td>dummy_oecd_cctr_gdp</td>\n",
       "      <td>0.3445</td>\n",
       "      <td>0.272</td>\n",
       "      <td>1.269</td>\n",
       "      <td>0.208</td>\n",
       "      <td>-0.195</td>\n",
       "      <td>0.884</td>\n",
       "    </tr>\n",
       "    <tr>\n",
       "      <th>3</th>\n",
       "      <td>ln_gdp_pc_times_dummy_oecd_cctr_gdp</td>\n",
       "      <td>-0.1713</td>\n",
       "      <td>0.101</td>\n",
       "      <td>-1.689</td>\n",
       "      <td>0.095</td>\n",
       "      <td>-0.373</td>\n",
       "      <td>0.030</td>\n",
       "    </tr>\n",
       "  </tbody>\n",
       "</table>\n",
       "</div>"
      ],
      "text/plain": [
       "                              variable    coef  std err       t  P>|t|  \\\n",
       "0                                 ones -2.6555    0.191 -13.924  0.000   \n",
       "1                            ln_gdp_pc  1.4060    0.073  19.151  0.000   \n",
       "2                  dummy_oecd_cctr_gdp  0.3445    0.272   1.269  0.208   \n",
       "3  ln_gdp_pc_times_dummy_oecd_cctr_gdp -0.1713    0.101  -1.689  0.095   \n",
       "\n",
       "   [0.025  0.975]  \n",
       "0  -3.034  -2.277  \n",
       "1   1.260   1.552  \n",
       "2  -0.195   0.884  \n",
       "3  -0.373   0.030  "
      ]
     },
     "execution_count": 22,
     "metadata": {},
     "output_type": "execute_result"
    }
   ],
   "source": [
    "# by hand\n",
    "OLS_estimator(data = df, y = \"ln_edgar_co2pc\", X = [\"ones\",\"ln_gdp_pc\",\"dummy_oecd_cctr_gdp\",\n",
    "                                                    \"ln_gdp_pc_times_dummy_oecd_cctr_gdp\"])"
   ]
  },
  {
   "cell_type": "markdown",
   "id": "27e4cd68",
   "metadata": {},
   "source": [
    "- OK so indeed when we use a dummy, we find a stronger effect that is also statistically significant at the 10-% level. This is intuitive, as now, rather than studying a one-unit increase in our carbon-revenue variable, we are moving from a group of countries with below-median carbon revenues to another group of countries with above-median carbon revenues.\n",
    "- Interpretation: our coefficient estimate of -0.1713 tells us that, on average, the impact of GDP per capita on CO2 emissions is 0.17 percentage points lower in countries with above-median carbon-tax revenues (compared to below-median countries). The p-value of 0.095 tells us that this result is statistically significant at the 10-% level.\n",
    "- All right. As a final note, what we have done so far is a good basis to then start playing around with the regressions. One example is thinking whether it was a good idea to log the data. Yes, on the one hand we increased the fit of our model. But on the other hand, by \"flattening\" the data we might have lost some variation that we might be interested in studying, especially with respect to our new interaction term. So let's look at our level data through the lenses of our interaction term:"
   ]
  },
  {
   "cell_type": "code",
   "execution_count": 23,
   "id": "db04712c",
   "metadata": {},
   "outputs": [
    {
     "data": {
      "text/plain": [
       "<seaborn.axisgrid.FacetGrid at 0x7fceed8e6a00>"
      ]
     },
     "execution_count": 23,
     "metadata": {},
     "output_type": "execute_result"
    },
    {
     "data": {
      "image/png": "[encoded data removed]",
      "text/plain": [
       "<Figure size 781.222x350 with 1 Axes>"
      ]
     },
     "metadata": {},
     "output_type": "display_data"
    }
   ],
   "source": [
    "sns.lmplot(x='gdp_pc', y='edgar_co2pc', data=df, hue=\"dummy_oecd_cctr_gdp\", height=3.5, aspect=1.7, ci=False)"
   ]
  },
  {
   "cell_type": "markdown",
   "id": "0399b342",
   "metadata": {},
   "source": [
    "- Mhm indeed it seems that the difference in the lines is more evident with level data.\n",
    "- Let's re-run regressions, this time using (i) directly the dummy for carbon-tax revenues, (ii) the canned OLS function, (iii) the package Stargazer to nicely display our results:"
   ]
  },
  {
   "cell_type": "code",
   "execution_count": 24,
   "id": "69cccd92",
   "metadata": {},
   "outputs": [
    {
     "data": {
      "text/html": [
       "<table style=\"text-align:center\"><tr><td colspan=\"4\" style=\"border-bottom: 1px solid black\"></td></tr><tr><td style=\"text-align:left\"></td><td colspan=\"3\"><em>Dependent variable:edgar_co2pc</em></td></tr><tr><td style=\"text-align:left\"></td><tr><td style=\"text-align:left\"></td><td>(1)</td><td>(2)</td><td>(3)</td></tr><tr><td colspan=\"4\" style=\"border-bottom: 1px solid black\"></td></tr><tr><td style=\"text-align:left\">Intercept</td><td>0.187<sup></sup></td><td>0.599<sup></sup></td><td>-0.333<sup></sup></td></tr><tr><td style=\"text-align:left\"></td><td>(0.445)</td><td>(0.506)</td><td>(0.610)</td></tr><tr><td style=\"text-align:left\">dummy_oecd_cctr_gdp</td><td></td><td>-0.953<sup>*</sup></td><td>0.741<sup></sup></td></tr><tr><td style=\"text-align:left\"></td><td></td><td>(0.573)</td><td>(0.862)</td></tr><tr><td style=\"text-align:left\">gdp_pc</td><td>0.239<sup>***</sup></td><td>0.242<sup>***</sup></td><td>0.298<sup>***</sup></td></tr><tr><td style=\"text-align:left\"></td><td>(0.018)</td><td>(0.018)</td><td>(0.028)</td></tr><tr><td style=\"text-align:left\">gdp_pc:dummy_oecd_cctr_gdp</td><td></td><td></td><td>-0.094<sup>**</sup></td></tr><tr><td style=\"text-align:left\"></td><td></td><td></td><td>(0.036)</td></tr><td colspan=\"4\" style=\"border-bottom: 1px solid black\"></td></tr><tr><td style=\"text-align: left\">Observations</td><td>94</td><td>94</td><td>94</td></tr><tr><td style=\"text-align: left\">R<sup>2</sup></td><td>0.644</td><td>0.655</td><td>0.678</td></tr><tr><td style=\"text-align: left\">Adjusted R<sup>2</sup></td><td>0.640</td><td>0.647</td><td>0.668</td></tr><tr><td style=\"text-align: left\">Residual Std. Error</td><td>2.785 (df=92)</td><td>2.758 (df=91)</td><td>2.677 (df=90)</td></tr><tr><td style=\"text-align: left\">F Statistic</td><td>166.507<sup>***</sup> (df=1; 92)</td><td>86.239<sup>***</sup> (df=2; 91)</td><td>63.242<sup>***</sup> (df=3; 90)</td></tr><tr><td colspan=\"4\" style=\"border-bottom: 1px solid black\"></td></tr><tr><td style=\"text-align: left\">Note:</td>\n",
       " <td colspan=\"3\" style=\"text-align: right\">\n",
       "  <sup>*</sup>p&lt;0.1;\n",
       "  <sup>**</sup>p&lt;0.05;\n",
       "  <sup>***</sup>p&lt;0.01\n",
       " </td></tr></table>"
      ],
      "text/plain": [
       "<stargazer.stargazer.Stargazer at 0x7fceecd1beb0>"
      ]
     },
     "execution_count": 24,
     "metadata": {},
     "output_type": "execute_result"
    }
   ],
   "source": [
    "# canned ols\n",
    "res_1 = sm.OLS.from_formula('edgar_co2pc ~ gdp_pc', df).fit()\n",
    "res_2 = sm.OLS.from_formula('edgar_co2pc ~ gdp_pc + dummy_oecd_cctr_gdp', df).fit()\n",
    "res_3 = sm.OLS.from_formula('edgar_co2pc ~ gdp_pc*dummy_oecd_cctr_gdp', df).fit()\n",
    "stargazer = Stargazer([res_1, res_2, res_3])\n",
    "stargazer"
   ]
  },
  {
   "cell_type": "markdown",
   "id": "cddca4d6",
   "metadata": {},
   "source": [
    "- Nice table!! And indeed we get slightly stronger results for our interaction term in column 3, which is now statistically significant at the 5-% level.\n",
    "- You can take this table as a rule of thumb to present your results with interaction terms. You should always show (i) your baseline specification (column 1), your baseline specification augmented with the added variable of interest (column 2), your baseline specification augmented with your added variable and the interaction term of interest (column 3). You should comment these columns step by step, and saying whether your coefficient estimates are in line with your logic and expectations, and if not come up with explanations of why that might be the case.\n",
    "- So let's interpret this table by relying on the reasoning explained above. The table above reports regression results for the relationship between GDP per capita, expressed in thousands of US dollars per year, and CO2 emissions per capita, expressed in tonnes of CO2 per year, obtained with a cross-sectional sample of 94 countries. Column 1 reports the baseline results. The coefficient estimate of 0.239 indicates that, on average, if GDP per capita increases by 1000 US dollars, we'd expect CO2 emissions per capita to increase by 0.239 tonnes. This result is statistically significant at the 1-% level. Looking at the Adjusted R-Squared, we can say that GDP per capita explains around 64% of the variation of CO2 emissions per capita, which is quite high. These results could be subject to omitted-variable bias, as countries with higher GDP per capita might also have higher carbon taxes, which in turn affect CO2 emissions. As with a carbon tax individuals consume less carbon-intensive goods than what they would normally do, we expect that our result of column 1 underestimates the real effect (we have a downward bias). We control for this issue with the specification of column 2, in which we include a dummy that equals one for countries above the median of an index for carbon-tax revenues, and 0 otherwise. The negative and statistically significant coefficient estimate of -0.953 suggest that indeed countries with higher carbon-tax revenues have lower emissions. This in turn hints that carbon-tax revenues can be a source of endogeneity in our sample. In addition, as the coefficient estimate of GDP per capita moves from 0.239 in column 1 to 0.242 in column 2, we indeed confirm that in column 1 we might have underestimated the effect. Furthermore, the high value for the F statistic suggests that the estimates for both regressors in our model are jointly significant. So the less-biased specification of column 2 suggest that, on average, if GDP per capita increases by 1000 US dollars, we'd expect CO2 emissions per capita to increase by 0.242 tonnes.\n",
    "- We'll leave it as an exercise for you to comment column 3."
   ]
  },
  {
   "cell_type": "code",
   "execution_count": null,
   "id": "c6830785",
   "metadata": {},
   "outputs": [],
   "source": []
  }
 ],
 "metadata": {
  "kernelspec": {
   "display_name": "Python 3 (ipykernel)",
   "language": "python",
   "name": "python3"
  },
  "language_info": {
   "codemirror_mode": {
    "name": "ipython",
    "version": 3
   },
   "file_extension": ".py",
   "mimetype": "text/x-python",
   "name": "python",
   "nbconvert_exporter": "python",
   "pygments_lexer": "ipython3",
   "version": "3.9.13"
  }
 },
 "nbformat": 4,
 "nbformat_minor": 5
}
